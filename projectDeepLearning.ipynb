{
<<<<<<< HEAD
  "cells": [
    {
      "cell_type": "code",
      "execution_count": null,
      "metadata": {
        "id": "IdxIgdHkvuis"
      },
      "outputs": [],
      "source": [
        "import os\n",
        "import json\n",
        "from transformers import GPT2LMHeadModel, GPT2Tokenizer, GPT2Config, AdamW\n",
        "from torch.nn import CrossEntropyLoss\n",
        "from torch.utils.data import DataLoader, Dataset\n",
        "from tqdm import tqdm\n",
        "import numpy as np\n",
        "\n",
        "# Set the environment variable\n",
        "os.environ[\"PROTOCOL_BUFFERS_PYTHON_IMPLEMENTATION\"] = \"python\"\n",
        "\n",
        "\n",
        "# Read data from a file\n",
        "with open(os.getcwd() + \"/data_processed.json\", 'r') as file:\n",
        "    data = json.load(file)\n",
        "\n",
        "# Extract questions and answers\n",
        "qas = data.get(\"qas\", [])\n",
        "\n",
        "questions = [qa.get(\"question\", \"\") for qa in qas]\n",
        "answers = [qa.get(\"answer\", \"\") for qa in qas]\n"
      ]
    },
    {
      "cell_type": "code",
      "execution_count": null,
      "metadata": {
        "colab": {
          "base_uri": "https://localhost:8080/"
        },
        "id": "G2sbERo4vui1",
        "outputId": "4781e156-e3fc-4b8e-b8af-1ade6d2278dc"
      },
      "outputs": [
        {
          "output_type": "stream",
          "name": "stdout",
          "text": [
            "Original Question Shape: (6108,)\n",
            "Original Answer Shape: (6108,)\n",
            "Updated Question Shape: (4741,)\n",
            "Updated Answer Shape: (4741,)\n",
            "Maximum Question Length: 208\n",
            "Maximum Answer Length: 299\n"
          ]
        }
      ],
      "source": [
        "\n",
        "#Set maximu length of sentences for question and answer\n",
        "max_length= 300\n",
        "\n",
        "# Convert questions and answers to NumPy arrays\n",
        "questions_array = np.array(questions)\n",
        "answers_array = np.array(answers)\n",
        "\n",
        "# Print original shapes\n",
        "print(\"Original Question Shape:\", questions_array.shape)\n",
        "print(\"Original Answer Shape:\", answers_array.shape)\n",
        "\n",
        "# Filter and remove pairs where either question or answer is longer than 200 characters\n",
        "mask = (np.vectorize(len)(questions_array) <= max_length-1) & (np.vectorize(len)(answers_array) <= max_length-1)\n",
        "filtered_questions_array = questions_array[mask]\n",
        "filtered_answers_array = answers_array[mask]\n",
        "\n",
        "# Print shapes after removing strings\n",
        "print(\"Updated Question Shape:\", filtered_questions_array.shape)\n",
        "print(\"Updated Answer Shape:\", filtered_answers_array.shape)\n",
        "\n",
        "# Calculate the maximum length of questions and answers\n",
        "max_question_length = max(len(q) for q in filtered_questions_array)\n",
        "max_answer_length = max(len(a) for a in filtered_answers_array)\n",
        "\n",
        "print(\"Maximum Question Length:\", max_question_length)\n",
        "print(\"Maximum Answer Length:\", max_answer_length)"
      ]
    },
    {
      "cell_type": "code",
      "source": [],
      "metadata": {
        "id": "SB14VHG5sBdn"
      },
      "execution_count": null,
      "outputs": []
    },
    {
      "cell_type": "markdown",
      "source": [
        "### **DATA AUGMENTATION**"
      ],
      "metadata": {
        "id": "uluoiMA2-3Ku"
      }
    },
    {
      "cell_type": "code",
      "source": [
        "##Select only the sentec over the minimum length\n",
        "minimum_length_aumented = 100\n",
        "\n",
        "# Convert questions and answers to NumPy arrays\n",
        "questions_array = np.array(filtered_questions_array)\n",
        "answers_array = np.array(filtered_answers_array)\n",
        "\n",
        "# Print original shapes\n",
        "print(\"Original Question Shape:\", questions_array.shape)\n",
        "print(\"Original Answer Shape:\", filtered_answers_array.shape)\n",
        "\n",
        "# Filter and remove pairs where either question or answer is longer than 200 characters\n",
        "mask = (np.vectorize(len)(filtered_questions_array) <= max_length-1) & (np.vectorize(len)(filtered_answers_array) >= minimum_length_aumented-1)\n",
        "augmented_question_array = questions_array[mask]\n",
        "augmented_answers_array = answers_array[mask]\n",
        "\n",
        "# Print shapes after removing strings\n",
        "print(\"Updated Question Shape:\", augmented_question_array.shape)\n",
        "print(\"Updated Answer Shape:\", augmented_answers_array.shape)\n",
        "\n",
        "# Calculate the maximum length of questions and answers\n",
        "max_question_length = max(len(q) for q in augmented_question_array)\n",
        "max_answer_length = max(len(a) for a in augmented_answers_array)\n",
        "\n",
        "print(\"Maximum Question Length:\", max_question_length)\n",
        "print(\"Maximum Answer Length:\", max_answer_length)\n",
        "\n"
      ],
      "metadata": {
        "colab": {
          "base_uri": "https://localhost:8080/"
        },
        "id": "fhW0IZGp_pEP",
        "outputId": "1f532116-5a05-4033-ce2c-6ca77dcb6664"
      },
      "execution_count": null,
      "outputs": [
        {
          "output_type": "stream",
          "name": "stdout",
          "text": [
            "Original Question Shape: (4741,)\n",
            "Original Answer Shape: (4741,)\n",
            "Updated Question Shape: (3987,)\n",
            "Updated Answer Shape: (3987,)\n",
            "Maximum Question Length: 128\n",
            "Maximum Answer Length: 299\n"
          ]
        }
      ]
    },
    {
      "cell_type": "code",
      "source": [
        "# Create a new list of dictionaries with the data\n",
        "result = []\n",
        "for item in range(len(augmented_question_array)):\n",
        "    result_dict = {\n",
        "        'answer': augmented_answers_array[item],\n",
        "        'question': augmented_question_array[item],\n",
        "        #'index': item['indexes']\n",
        "    }\n",
        "    result.append(result_dict)\n",
        "\n",
        "dict_dev_tsv = {'qas': result}\n",
        "# Save the new list to a JSON file\n",
        "with open(\"data_augmeted2.json\", \"w\") as json_file:\n",
        "    json.dump(dict_dev_tsv, json_file, indent=2)"
      ],
      "metadata": {
        "id": "29igpvBbCGac"
      },
      "execution_count": null,
      "outputs": []
    },
    {
      "cell_type": "code",
      "source": [
        "# Read data from a file\n",
        "with open(os.getcwd() + \"/data_augmented.json\", 'r') as file:\n",
        "    data = json.load(file)\n",
        "\n",
        "# Extract questions and answers\n",
        "qas = data.get(\"qas\", [])\n",
        "\n",
        "augmented_question_array = [qa.get(\"question\", \"\") for qa in qas]\n",
        "augmented_answers_array = [qa.get(\"answer\", \"\") for qa in qas]"
      ],
      "metadata": {
        "id": "_icDp6JHKiLe",
        "colab": {
          "base_uri": "https://localhost:8080/",
          "height": 245
        },
        "outputId": "3cfd7296-bc81-4b82-a5b6-7a6d2743f5ee"
      },
      "execution_count": null,
      "outputs": [
        {
          "output_type": "error",
          "ename": "FileNotFoundError",
          "evalue": "ignored",
          "traceback": [
            "\u001b[0;31m---------------------------------------------------------------------------\u001b[0m",
            "\u001b[0;31mFileNotFoundError\u001b[0m                         Traceback (most recent call last)",
            "\u001b[0;32m<ipython-input-11-62b80285af73>\u001b[0m in \u001b[0;36m<cell line: 2>\u001b[0;34m()\u001b[0m\n\u001b[1;32m      1\u001b[0m \u001b[0;31m# Read data from a file\u001b[0m\u001b[0;34m\u001b[0m\u001b[0;34m\u001b[0m\u001b[0m\n\u001b[0;32m----> 2\u001b[0;31m \u001b[0;32mwith\u001b[0m \u001b[0mopen\u001b[0m\u001b[0;34m(\u001b[0m\u001b[0mos\u001b[0m\u001b[0;34m.\u001b[0m\u001b[0mgetcwd\u001b[0m\u001b[0;34m(\u001b[0m\u001b[0;34m)\u001b[0m \u001b[0;34m+\u001b[0m \u001b[0;34m\"/data_augmented.json\"\u001b[0m\u001b[0;34m,\u001b[0m \u001b[0;34m'r'\u001b[0m\u001b[0;34m)\u001b[0m \u001b[0;32mas\u001b[0m \u001b[0mfile\u001b[0m\u001b[0;34m:\u001b[0m\u001b[0;34m\u001b[0m\u001b[0;34m\u001b[0m\u001b[0m\n\u001b[0m\u001b[1;32m      3\u001b[0m     \u001b[0mdata\u001b[0m \u001b[0;34m=\u001b[0m \u001b[0mjson\u001b[0m\u001b[0;34m.\u001b[0m\u001b[0mload\u001b[0m\u001b[0;34m(\u001b[0m\u001b[0mfile\u001b[0m\u001b[0;34m)\u001b[0m\u001b[0;34m\u001b[0m\u001b[0;34m\u001b[0m\u001b[0m\n\u001b[1;32m      4\u001b[0m \u001b[0;34m\u001b[0m\u001b[0m\n\u001b[1;32m      5\u001b[0m \u001b[0;31m# Extract questions and answers\u001b[0m\u001b[0;34m\u001b[0m\u001b[0;34m\u001b[0m\u001b[0m\n",
            "\u001b[0;31mFileNotFoundError\u001b[0m: [Errno 2] No such file or directory: '/content/data_augmented.json'"
          ]
        }
      ]
    },
    {
      "cell_type": "code",
      "source": [
        "\n",
        "masked_question_array = questions_array[mask]\n",
        "masked_answers_array = answers_array[mask]\n",
        "\n",
        "index=[0,1,2]\n",
        "\n",
        "for i in index:\n",
        "  print(\"Question:  \" + str(masked_question_array[i]) + \"\\n\" )\n",
        "  print(\"Answer: \" + str(masked_answers_array[i]) + \"\\n\")\n",
        "  print(\"Question augmented:  \" + str(augmented_question_array[i]) + \"\\n\" )\n",
        "  print(\"Answer   \" + str(augmented_answers_array[i]) + \"\\n\")\n",
        "  print(\"----------------------------------------------------------\")\n"
      ],
      "metadata": {
        "id": "JSMSb_jiJY8x"
      },
      "execution_count": null,
      "outputs": []
    },
    {
      "cell_type": "markdown",
      "source": [
        "# **Processing Data**"
      ],
      "metadata": {
        "id": "_9w1oPrSrF3h"
      }
    },
    {
      "cell_type": "code",
      "execution_count": null,
      "metadata": {
        "colab": {
          "base_uri": "https://localhost:8080/"
        },
        "id": "5twI6L0gvui3",
        "outputId": "9cb2f4f1-6f61-451a-f4b9-e47985d04e55"
      },
      "outputs": [
        {
          "output_type": "stream",
          "name": "stdout",
          "text": [
            "Maximum Question Length: 300\n",
            "Maximum Answer Length: 300\n"
          ]
        }
      ],
      "source": [
        "# Choose a custom padding token\n",
        "pad_fill_token = '!'\n",
        "\n",
        "def fill_with_token(text, max_len):\n",
        "    text = text.replace('?', '!')\n",
        "     # Calculate the number of tokens needed to fill up to max_len\n",
        "    num_tokens = max_len - len(text)\n",
        "\n",
        "    # Concatenate '!' tokens with no space between them to fill up to max_len\n",
        "    filled_text = text + pad_fill_token * num_tokens\n",
        "    # Truncate the filled text to max_len\n",
        "    filled_text = filled_text[:max_len]\n",
        "\n",
        "    return filled_text\n",
        "\n",
        "\n",
        "# Initialize lists to store modified questions and answers\n",
        "modified_questions = []\n",
        "modified_answers = []\n",
        "\n",
        "# Process each entry in the dataset\n",
        "for i in range(len(filtered_questions_array)):\n",
        "    question = fill_with_token(filtered_questions_array[i], max_length)\n",
        "    modified_questions.append(question)\n",
        "\n",
        "    answer = fill_with_token(filtered_answers_array[i], max_length)\n",
        "    modified_answers.append(answer)\n",
        "\n",
        "modified_questions_list = modified_questions\n",
        "modified_answers_list = modified_answers\n",
        "\n",
        "# Calculate the maximum length of questions and answers\n",
        "max_question_length = max(len(q) for q in modified_questions_list)\n",
        "max_answer_length = max(len(a) for a in modified_answers_list)\n",
        "\n",
        "print(\"Maximum Question Length:\", max_question_length)\n",
        "print(\"Maximum Answer Length:\", max_answer_length)\n",
        "\n",
        "\n"
      ]
    },
    {
      "cell_type": "code",
      "execution_count": null,
      "metadata": {
        "colab": {
          "base_uri": "https://localhost:8080/",
          "height": 507
        },
        "id": "iFaF8sDkvui5",
        "outputId": "902f09dd-6b07-47f0-fadb-ce932fc57a93"
      },
      "outputs": [
        {
          "output_type": "display_data",
          "data": {
            "text/plain": [
              "<Figure size 1000x500 with 2 Axes>"
            ],
            "image/png": "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\n"
          },
          "metadata": {}
        }
      ],
      "source": [
        "import matplotlib.pyplot as plt\n",
        "\n",
        "# Assuming you have already processed the dataset and have the 'questions' and 'answers' lists\n",
        "\n",
        "# Calculate the lengths of questions and answers\n",
        "question_lengths = [len(q) for q in modified_questions_list]\n",
        "answer_lengths = [len(a) for a in modified_answers_list]\n",
        "\n",
        "# Plot histograms\n",
        "plt.figure(figsize=(10, 5))\n",
        "\n",
        "plt.subplot(1, 2, 1)\n",
        "plt.hist(question_lengths, bins=20, color='blue', alpha=0.7)\n",
        "plt.title('Question Length Distribution')\n",
        "plt.xlabel('Length')\n",
        "plt.ylabel('Frequency')\n",
        "\n",
        "plt.subplot(1, 2, 2)\n",
        "plt.hist(answer_lengths, bins=20, color='green', alpha=0.7)\n",
        "plt.title('Answer Length Distribution')\n",
        "plt.xlabel('Length')\n",
        "plt.ylabel('Frequency')\n",
        "\n",
        "plt.tight_layout()\n",
        "plt.show()\n"
      ]
    },
    {
      "cell_type": "code",
      "execution_count": null,
      "metadata": {
        "colab": {
          "base_uri": "https://localhost:8080/",
          "height": 145,
          "referenced_widgets": [
            "cf00f4a0c65a494aa7ecfdd54081a0b1",
            "f8a5637a4cbf48a282af217b3fc9edf7",
            "58899b27ea1a45f28fb6962913df448f",
            "d533c5c2fcde41a8bc8d01678750b3b7",
            "54f3432d27e34b71a5db41aa1f901f65",
            "74a7c490f32844d982863f7cd484281d",
            "2068fefab39e4b358d3aa67d81975ec3",
            "7df196ee03164c92bbac1f08766ea693",
            "4bf66e8d7e8047bb90bc8f46f8e86462",
            "25b6c9c6c7ad453989344b3fa48bbe0b",
            "34b7b40c1dd744cd9e592e4f5c273963",
            "1e1c9729fed34bdf9c92d96baa0be6eb",
            "59236e5b66bd4eb3a17aaddb696ae56a",
            "d19a4f579b664694a1ca75e44cd544b9",
            "57607618142040739832f815d6c646ce",
            "fda4ed88aae44eff9e3ce5f39c28ffad",
            "04170ce305ed4b13aa0c1a37ae8f9228",
            "46765bf4114441e9ba459d88a5034843",
            "c715fcc7c6b7421b808c27efca47f136",
            "f85a74d25a024e3b8346bd2e6c78eba9",
            "d28c9a72c6e1472d9f6ce3ec25edd63f",
            "701a17e62f604edab4bf78959190e95b",
            "0bd33ab14f474dd1971df213d2586f01",
            "b485980ad13a4c6587552ff1c78e19b7",
            "3951bea856f34b3a9a3519130058864f",
            "b84cb41ddf5b4bb7ba599327258baf18",
            "eb448bfe35b94057a117269aaae5b881",
            "7733a07d1cd344aebbec1a167000543a",
            "38284acc057d4795898a35e7a1234c42",
            "ddd007799bde4c3b97e7e1539f170edd",
            "6ee90f9fb4534c879a1107a9749bc1f9",
            "1573dd5ff49b40fab018ddf501027131",
            "f93e1b9d74de49a1af2ae06932346c6a",
            "738a93c7828e47ed904dbce77640eb37",
            "7ae8a462ade244bdb96aa406126725aa",
            "ed6b2a4b335b4e0dba163ac66e67acc0",
            "82d30de12b1b48de88c356c9f2e374fe",
            "63b7d56def9d4b0bb6bc90e7ce4d0583",
            "a1043c24a4c94ef7a18d26633788aa38",
            "64378966dd3f45518d3b215a9834484c",
            "7ff272a1a14f4f8cb5007016edd4a9a0",
            "da614ec72f2e4b0493151c4881eaa792",
            "ce3c9f5b07184e15822d3b3a4d78a666",
            "127c1a453a1145d1b31dd1d4e7b0ca53"
          ]
        },
        "id": "GGgB2ifGvui6",
        "outputId": "f11c472e-485b-4bba-9f0b-2944d11c8744"
      },
      "outputs": [
        {
          "output_type": "display_data",
          "data": {
            "text/plain": [
              "vocab.json:   0%|          | 0.00/1.04M [00:00<?, ?B/s]"
            ],
            "application/vnd.jupyter.widget-view+json": {
              "version_major": 2,
              "version_minor": 0,
              "model_id": "cf00f4a0c65a494aa7ecfdd54081a0b1"
            }
          },
          "metadata": {}
        },
        {
          "output_type": "display_data",
          "data": {
            "text/plain": [
              "merges.txt:   0%|          | 0.00/456k [00:00<?, ?B/s]"
            ],
            "application/vnd.jupyter.widget-view+json": {
              "version_major": 2,
              "version_minor": 0,
              "model_id": "1e1c9729fed34bdf9c92d96baa0be6eb"
            }
          },
          "metadata": {}
        },
        {
          "output_type": "display_data",
          "data": {
            "text/plain": [
              "tokenizer.json:   0%|          | 0.00/1.36M [00:00<?, ?B/s]"
            ],
            "application/vnd.jupyter.widget-view+json": {
              "version_major": 2,
              "version_minor": 0,
              "model_id": "0bd33ab14f474dd1971df213d2586f01"
            }
          },
          "metadata": {}
        },
        {
          "output_type": "display_data",
          "data": {
            "text/plain": [
              "config.json:   0%|          | 0.00/665 [00:00<?, ?B/s]"
            ],
            "application/vnd.jupyter.widget-view+json": {
              "version_major": 2,
              "version_minor": 0,
              "model_id": "738a93c7828e47ed904dbce77640eb37"
            }
          },
          "metadata": {}
        }
      ],
      "source": [
        "# Tokenization with a new [PAD] token added\n",
        "tokenizer = GPT2Tokenizer.from_pretrained(\"gpt2\")\n",
        "tokenizer.add_tokens([pad_fill_token])\n",
        "tokenizer.pad_token = pad_fill_token\n",
        "pad_token_id = tokenizer.pad_token_id\n"
      ]
    },
    {
      "cell_type": "code",
      "execution_count": null,
      "metadata": {
        "colab": {
          "base_uri": "https://localhost:8080/"
        },
        "id": "5m3AtATdvui8",
        "outputId": "4f4fbc7f-ed4d-4b2a-d974-250028ca8d67"
      },
      "outputs": [
        {
          "output_type": "stream",
          "name": "stdout",
          "text": [
            "Tokenized Questions Shape: torch.Size([949, 300])\n",
            "Tokenized Answers Shape: torch.Size([949, 300])\n",
            "Vocabulary Size: 50257\n",
            "Pad token id 0\n"
          ]
        }
      ],
      "source": [
        "import torch\n",
        "from sklearn.model_selection import train_test_split\n",
        "# Split the data into training and validation sets\n",
        "train_questions, val_questions, train_answers, val_answers = train_test_split(\n",
        "    modified_questions_list, modified_answers_list, test_size=0.2, random_state=42\n",
        ")\n",
        "\n",
        "# Tokenize your dataset\n",
        "# Assuming `questions` and `answers` are your input and target data\n",
        "tokenized_questions_train = tokenizer(train_questions, padding=True, truncation=True, return_tensors=\"pt\", max_length=max_length)\n",
        "tokenized_answers_train = tokenizer(train_answers, padding=True, truncation=True, return_tensors=\"pt\", max_length=max_length)\n",
        "\n",
        "tokenized_questions_train['input_ids'] = torch.cat([tokenized_questions_train['input_ids'], torch.full((len(train_questions), max_length - tokenized_questions_train['input_ids'].size(1)), tokenizer.pad_token_id)], dim=1)\n",
        "tokenized_answers_train['input_ids'] = torch.cat([tokenized_answers_train['input_ids'], torch.full((len(train_answers), max_length - tokenized_answers_train['input_ids'].size(1)), tokenizer.pad_token_id)], dim=1)\n",
        "\n",
        "\n",
        "# Tokenize questions and answers for validation\n",
        "val_tokenized_questions = tokenizer(val_questions, padding=True, truncation=True, return_tensors=\"pt\",max_length=max_length)\n",
        "val_tokenized_answers = tokenizer(val_answers, padding=True, truncation=True, return_tensors=\"pt\",max_length=max_length)\n",
        "\n",
        "val_tokenized_questions['input_ids'] = torch.cat([val_tokenized_questions['input_ids'], torch.full((len(val_questions), max_length - val_tokenized_questions['input_ids'].size(1)), tokenizer.pad_token_id)], dim=1)\n",
        "val_tokenized_answers['input_ids'] = torch.cat([val_tokenized_answers['input_ids'], torch.full((len(val_answers), max_length - val_tokenized_answers['input_ids'].size(1)), tokenizer.pad_token_id)], dim=1)\n",
        "\n",
        "#Printing shapes\n",
        "print(\"Tokenized Questions Shape:\", val_tokenized_questions[\"input_ids\"].shape)\n",
        "print(\"Tokenized Answers Shape:\", val_tokenized_questions[\"input_ids\"].shape)\n",
        "print(\"Vocabulary Size:\", tokenizer.vocab_size)\n",
        "print(\"Pad token id\",pad_token_id)"
      ]
    },
    {
      "cell_type": "code",
      "execution_count": null,
      "metadata": {
        "id": "COtn1wIDvui9"
      },
      "outputs": [],
      "source": [
        "class QADataset(Dataset):\n",
        "    def __init__(self, questions, answers):\n",
        "        self.questions = questions\n",
        "        self.answers = answers\n",
        "\n",
        "    def __len__(self):\n",
        "        return len(self.questions['input_ids'])\n",
        "\n",
        "    def __getitem__(self, idx):\n",
        "        return {\n",
        "            'input_ids': self.questions['input_ids'][idx],\n",
        "            'labels': self.answers['input_ids'][idx],\n",
        "        }\n",
        "\n",
        "# Create instances of the custom dataset\n",
        "dataset = QADataset(tokenized_questions_train, tokenized_answers_train)\n",
        "\n",
        "# DataLoader for batching and shuffling the data\n",
        "dataloader = DataLoader(dataset, batch_size=8, shuffle=True)"
      ]
    },
    {
      "cell_type": "code",
      "execution_count": null,
      "metadata": {
        "colab": {
          "base_uri": "https://localhost:8080/"
        },
        "id": "SvVMDyxnvui-",
        "outputId": "644ee6fa-8596-4bad-8fc7-9378190a0c50"
      },
      "outputs": [
        {
          "output_type": "stream",
          "name": "stderr",
          "text": [
            "/usr/local/lib/python3.10/dist-packages/transformers/optimization.py:411: FutureWarning: This implementation of AdamW is deprecated and will be removed in a future version. Use the PyTorch implementation torch.optim.AdamW instead, or set `no_deprecation_warning=True` to disable this warning\n",
            "  warnings.warn(\n"
          ]
        },
        {
          "output_type": "stream",
          "name": "stdout",
          "text": [
            "cuda:0\n"
          ]
        },
        {
          "output_type": "stream",
          "name": "stderr",
          "text": [
            "Epoch 1/10: 100%|██████████| 474/474 [05:27<00:00,  1.45it/s]\n"
          ]
        },
        {
          "output_type": "stream",
          "name": "stdout",
          "text": [
            "Epoch 1/10, Average Loss: 1.0242653749411619\n"
          ]
        },
        {
          "output_type": "stream",
          "name": "stderr",
          "text": [
            "Epoch 2/10: 100%|██████████| 474/474 [05:28<00:00,  1.44it/s]\n"
          ]
        },
        {
          "output_type": "stream",
          "name": "stdout",
          "text": [
            "Epoch 2/10, Average Loss: 0.9561178660342462\n"
          ]
        },
        {
          "output_type": "stream",
          "name": "stderr",
          "text": [
            "Epoch 3/10: 100%|██████████| 474/474 [05:28<00:00,  1.44it/s]\n"
          ]
        },
        {
          "output_type": "stream",
          "name": "stdout",
          "text": [
            "Epoch 3/10, Average Loss: 0.9237860223034766\n"
          ]
        },
        {
          "output_type": "stream",
          "name": "stderr",
          "text": [
            "Epoch 4/10: 100%|██████████| 474/474 [05:28<00:00,  1.44it/s]\n"
          ]
        },
        {
          "output_type": "stream",
          "name": "stdout",
          "text": [
            "Epoch 4/10, Average Loss: 0.8917600091248122\n"
          ]
        },
        {
          "output_type": "stream",
          "name": "stderr",
          "text": [
            "Epoch 5/10: 100%|██████████| 474/474 [05:28<00:00,  1.44it/s]\n"
          ]
        },
        {
          "output_type": "stream",
          "name": "stdout",
          "text": [
            "Epoch 5/10, Average Loss: 0.8634242892642564\n"
          ]
        },
        {
          "output_type": "stream",
          "name": "stderr",
          "text": [
            "Epoch 6/10: 100%|██████████| 474/474 [05:28<00:00,  1.44it/s]\n"
          ]
        },
        {
          "output_type": "stream",
          "name": "stdout",
          "text": [
            "Epoch 6/10, Average Loss: 0.8367362750481956\n"
          ]
        },
        {
          "output_type": "stream",
          "name": "stderr",
          "text": [
            "Epoch 7/10: 100%|██████████| 474/474 [05:28<00:00,  1.44it/s]\n"
          ]
        },
        {
          "output_type": "stream",
          "name": "stdout",
          "text": [
            "Epoch 7/10, Average Loss: 0.8109511156499637\n"
          ]
        },
        {
          "output_type": "stream",
          "name": "stderr",
          "text": [
            "Epoch 8/10: 100%|██████████| 474/474 [05:28<00:00,  1.44it/s]\n"
          ]
        },
        {
          "output_type": "stream",
          "name": "stdout",
          "text": [
            "Epoch 8/10, Average Loss: 0.7828799566010383\n"
          ]
        },
        {
          "output_type": "stream",
          "name": "stderr",
          "text": [
            "Epoch 9/10: 100%|██████████| 474/474 [05:28<00:00,  1.44it/s]\n"
          ]
        },
        {
          "output_type": "stream",
          "name": "stdout",
          "text": [
            "Epoch 9/10, Average Loss: 0.7589956645849888\n"
          ]
        },
        {
          "output_type": "stream",
          "name": "stderr",
          "text": [
            "Epoch 10/10: 100%|██████████| 474/474 [05:28<00:00,  1.44it/s]\n"
          ]
        },
        {
          "output_type": "stream",
          "name": "stdout",
          "text": [
            "Epoch 10/10, Average Loss: 0.7331032659937058\n"
          ]
        }
      ],
      "source": [
        "# Model configuration\n",
        "config = GPT2Config.from_pretrained(\"gpt2\", output_hidden_states=False)\n",
        "model = GPT2LMHeadModel.from_pretrained(\"gpt2\", config=config)\n",
        "\n",
        "# Optimizer and loss function\n",
        "optimizer = AdamW(model.parameters(), lr=5e-5)\n",
        "# Set the ignore_index to the pad_token_id\n",
        "loss_function = CrossEntropyLoss(ignore_index=pad_token_id)\n",
        "\n",
        "# Training loop\n",
        "num_epochs = 10\n",
        "device = torch.device(\"cuda\" if torch.cuda.is_available() else \"cpu\")\n",
        "model.to(device)\n",
        "print(model.device)  # This will print the current device of the model\n",
        "\n",
        "\n",
        "for epoch in range(num_epochs):\n",
        "    model.train()\n",
        "    total_loss = 0\n",
        "\n",
        "    for batch in tqdm(dataloader, desc=f\"Epoch {epoch + 1}/{num_epochs}\"):\n",
        "        input_ids = batch['input_ids'].to(device)\n",
        "        labels = batch['labels'].to(device)\n",
        "\n",
        "        optimizer.zero_grad()\n",
        "\n",
        "        outputs = model(input_ids, labels=labels)\n",
        "        loss = outputs.loss\n",
        "        total_loss += loss.item()\n",
        "\n",
        "        loss.backward()\n",
        "        optimizer.step()\n",
        "\n",
        "    average_loss = total_loss / len(dataloader)\n",
        "    # Assuming your model is called 'model' and you have a config called 'config'\n",
        "    model.save_pretrained(\"pretrained_model\")\n",
        "    config.save_pretrained(\"pretreined_config\")\n",
        "    print(f\"Epoch {epoch + 1}/{num_epochs}, Average Loss: {average_loss}\")"
      ]
    },
    {
      "cell_type": "code",
      "source": [
        "import torch\n",
        "from transformers import GPT2LMHeadModel\n",
        "from torch.utils.data import DataLoader\n",
        "from tqdm import tqdm\n",
        "\n",
        "# Assuming you have defined the evaluation function earlier\n",
        "def evaluate_model(model, dataloader):\n",
        "    model.eval()\n",
        "    total_loss = 0.0\n",
        "    total_count = 0\n",
        "    total_tokens = 0\n",
        "    correct_tokens = 0\n",
        "\n",
        "    with torch.no_grad():\n",
        "        for batch in tqdm(dataloader, desc=\"Validation\"):\n",
        "            input_ids, labels = batch\n",
        "            input_ids, labels = input_ids.to(device), labels.to(device)\n",
        "\n",
        "            outputs = model(input_ids, labels=labels)\n",
        "            loss = outputs.loss\n",
        "            logits = outputs.logits\n",
        "\n",
        "            total_loss += loss.item()\n",
        "            total_count += 1\n",
        "\n",
        "            # Token-level accuracy\n",
        "            correct_tokens += (torch.argmax(logits, dim=-1) == labels).sum().item()\n",
        "            total_tokens += labels.numel()\n",
        "\n",
        "    avg_loss = total_loss / total_count\n",
        "    perplexity = torch.exp(torch.tensor(avg_loss))\n",
        "    token_level_accuracy = correct_tokens / total_tokens\n",
        "\n",
        "    return avg_loss, perplexity.item(), token_level_accuracy\n"
      ],
      "metadata": {
        "id": "RWR2BomSyP2x"
      },
      "execution_count": null,
      "outputs": []
    },
    {
      "cell_type": "code",
      "source": [
        "# Function to plot metrics\n",
        "def plot_metrics(pre_training_metrics, post_training_metrics, metric_names):\n",
        "    x = range(len(metric_names))\n",
        "    width = 0.35\n",
        "\n",
        "    fig, ax = plt.subplots()\n",
        "    rects1 = ax.bar(x, pre_training_metrics, width, label='Pre-training', color='blue')\n",
        "    rects2 = ax.bar([i + width for i in x], post_training_metrics, width, label='Post-training', color='orange')\n",
        "\n",
        "    ax.set_xlabel('Metrics')\n",
        "    ax.set_ylabel('Values')\n",
        "    ax.set_title('Comparison of Metrics Before and After Fine-tuning')\n",
        "    ax.set_xticks([i + width / 2 for i in x])\n",
        "    ax.set_xticklabels(metric_names)\n",
        "    ax.legend()\n",
        "\n",
        "    plt.show()"
      ],
      "metadata": {
        "id": "I6XxbiXM0K0c"
      },
      "execution_count": null,
      "outputs": []
    },
    {
      "cell_type": "code",
      "source": [
        "# Model  for fine tuning\n",
        "config = GPT2Config.from_pretrained(\"gpt2\", output_hidden_states=False)\n",
        "model = GPT2LMHeadModel.from_pretrained(\"gpt2\", config=config)\n",
        "\n",
        "#Model after finetuning\n",
        "config_fineTuned = GPT2Config.from_pretrained(\"pretreined_config\")\n",
        "model_fineTuned = GPT2LMHeadModel.from_pretrained(\"pretrained_model\")\n",
        "\n",
        "device = torch.device(\"cuda\" if torch.cuda.is_available() else \"cpu\")\n",
        "model.to(device)\n",
        "model_fineTuned.to(device)\n",
        "\n",
        "# Create a DataLoader for the validation set\n",
        "val_dataloader = DataLoader(list(zip(val_tokenized_questions['input_ids'], val_tokenized_answers['input_ids'])), batch_size=8, shuffle=False)\n",
        "\n",
        "\n",
        "# Evaluate the pre-trained model on the validation set for language modeling\n",
        "pre_training_metrics = evaluate_model(model, val_dataloader)\n",
        "\n",
        "# Fine-tune the model\n",
        "# Replace this with your actual fine-tuning code\n",
        "# fine_tune_model(model, train_dataloader)\n",
        "\n",
        "# Evaluate the fine-tuned model on the validation set for language modeling\n",
        "post_training_metrics = evaluate_model(model_fineTuned, val_dataloader)\n",
        "\n",
        "# Plot the comparison\n",
        "metric_names = ['Perplexity', 'Cross Entropy Loss', 'Token-level Accuracy']\n",
        "plot_metrics(pre_training_metrics, post_training_metrics, metric_names)"
      ],
      "metadata": {
        "id": "XDZYjSP0yTJd"
      },
      "execution_count": null,
      "outputs": []
    },
    {
      "cell_type": "code",
      "source": [
        "# Print the results\n",
        "print(\"Pre-training Metrics:\")\n",
        "print(f\"Validation Loss: {pre_training_metrics[0]}\")\n",
        "print(f\"Validation Perplexity: {pre_training_metrics[1]}\")\n",
        "print(f\"Validation Token-level Accuracy: {pre_training_metrics[2]}\")\n",
        "\n",
        "print(\"\\nPost-training Metrics:\")\n",
        "print(f\"Validation Loss: {post_training_metrics[0]}\")\n",
        "print(f\"Validation Perplexity: {post_training_metrics[1]}\")\n",
        "print(f\"Validation Token-level Accuracy: {post_training_metrics[2]}\")"
      ],
      "metadata": {
        "id": "gS7mmxtT5MtX"
      },
      "execution_count": null,
      "outputs": []
    },
    {
      "cell_type": "code",
      "source": [],
      "metadata": {
        "id": "cZ1F4S0r7TCH"
      },
      "execution_count": null,
      "outputs": []
    },
    {
      "cell_type": "code",
      "execution_count": null,
      "metadata": {
        "id": "jU3q_hsPvujB"
      },
      "outputs": [],
      "source": [
        "###INFERENCE\n",
        "\n",
        "# Set the model to evaluation mode\n",
        "model.eval()\n",
        "\n",
        "# Prompt for user input\n",
        "user_prompt = \"What is deep learning\"\n",
        "\n",
        "# Tokenize the prompt\n",
        "input_ids = tokenizer.encode(user_prompt, return_tensors=\"pt\").to(device)\n",
        "\n",
        "# Generate text based on the prompt\n",
        "output = model.generate(input_ids, max_length=100, num_beams=5, no_repeat_ngram_size=2, top_k=50, top_p=0.95)\n",
        "\n",
        "# Decode and print the generated text\n",
        "generated_text = tokenizer.decode(output[0], skip_special_tokens=True)\n",
        "print(\"Generated Text:\", generated_text)"
      ]
    }
  ],
  "metadata": {
    "kernelspec": {
      "display_name": "Python 3",
      "name": "python3"
    },
    "language_info": {
      "codemirror_mode": {
        "name": "ipython",
        "version": 3
      },
      "file_extension": ".py",
      "mimetype": "text/x-python",
      "name": "python",
      "nbconvert_exporter": "python",
      "pygments_lexer": "ipython3",
      "version": "3.8.18"
    },
    "orig_nbformat": 4,
    "colab": {
      "provenance": [],
      "gpuType": "T4",
      "collapsed_sections": [
        "uluoiMA2-3Ku"
      ]
    },
    "accelerator": "GPU",
    "widgets": {
      "application/vnd.jupyter.widget-state+json": {
        "cf00f4a0c65a494aa7ecfdd54081a0b1": {
          "model_module": "@jupyter-widgets/controls",
          "model_name": "HBoxModel",
          "model_module_version": "1.5.0",
          "state": {
            "_dom_classes": [],
            "_model_module": "@jupyter-widgets/controls",
            "_model_module_version": "1.5.0",
            "_model_name": "HBoxModel",
            "_view_count": null,
            "_view_module": "@jupyter-widgets/controls",
            "_view_module_version": "1.5.0",
            "_view_name": "HBoxView",
            "box_style": "",
            "children": [
              "IPY_MODEL_f8a5637a4cbf48a282af217b3fc9edf7",
              "IPY_MODEL_58899b27ea1a45f28fb6962913df448f",
              "IPY_MODEL_d533c5c2fcde41a8bc8d01678750b3b7"
            ],
            "layout": "IPY_MODEL_54f3432d27e34b71a5db41aa1f901f65"
          }
        },
        "f8a5637a4cbf48a282af217b3fc9edf7": {
          "model_module": "@jupyter-widgets/controls",
          "model_name": "HTMLModel",
          "model_module_version": "1.5.0",
          "state": {
            "_dom_classes": [],
            "_model_module": "@jupyter-widgets/controls",
            "_model_module_version": "1.5.0",
            "_model_name": "HTMLModel",
            "_view_count": null,
            "_view_module": "@jupyter-widgets/controls",
            "_view_module_version": "1.5.0",
            "_view_name": "HTMLView",
            "description": "",
            "description_tooltip": null,
            "layout": "IPY_MODEL_74a7c490f32844d982863f7cd484281d",
            "placeholder": "​",
            "style": "IPY_MODEL_2068fefab39e4b358d3aa67d81975ec3",
            "value": "vocab.json: 100%"
          }
        },
        "58899b27ea1a45f28fb6962913df448f": {
          "model_module": "@jupyter-widgets/controls",
          "model_name": "FloatProgressModel",
          "model_module_version": "1.5.0",
          "state": {
            "_dom_classes": [],
            "_model_module": "@jupyter-widgets/controls",
            "_model_module_version": "1.5.0",
            "_model_name": "FloatProgressModel",
            "_view_count": null,
            "_view_module": "@jupyter-widgets/controls",
            "_view_module_version": "1.5.0",
            "_view_name": "ProgressView",
            "bar_style": "success",
            "description": "",
            "description_tooltip": null,
            "layout": "IPY_MODEL_7df196ee03164c92bbac1f08766ea693",
            "max": 1042301,
            "min": 0,
            "orientation": "horizontal",
            "style": "IPY_MODEL_4bf66e8d7e8047bb90bc8f46f8e86462",
            "value": 1042301
          }
        },
        "d533c5c2fcde41a8bc8d01678750b3b7": {
          "model_module": "@jupyter-widgets/controls",
          "model_name": "HTMLModel",
          "model_module_version": "1.5.0",
          "state": {
            "_dom_classes": [],
            "_model_module": "@jupyter-widgets/controls",
            "_model_module_version": "1.5.0",
            "_model_name": "HTMLModel",
            "_view_count": null,
            "_view_module": "@jupyter-widgets/controls",
            "_view_module_version": "1.5.0",
            "_view_name": "HTMLView",
            "description": "",
            "description_tooltip": null,
            "layout": "IPY_MODEL_25b6c9c6c7ad453989344b3fa48bbe0b",
            "placeholder": "​",
            "style": "IPY_MODEL_34b7b40c1dd744cd9e592e4f5c273963",
            "value": " 1.04M/1.04M [00:00&lt;00:00, 1.34MB/s]"
          }
        },
        "54f3432d27e34b71a5db41aa1f901f65": {
          "model_module": "@jupyter-widgets/base",
          "model_name": "LayoutModel",
          "model_module_version": "1.2.0",
          "state": {
            "_model_module": "@jupyter-widgets/base",
            "_model_module_version": "1.2.0",
            "_model_name": "LayoutModel",
            "_view_count": null,
            "_view_module": "@jupyter-widgets/base",
            "_view_module_version": "1.2.0",
            "_view_name": "LayoutView",
            "align_content": null,
            "align_items": null,
            "align_self": null,
            "border": null,
            "bottom": null,
            "display": null,
            "flex": null,
            "flex_flow": null,
            "grid_area": null,
            "grid_auto_columns": null,
            "grid_auto_flow": null,
            "grid_auto_rows": null,
            "grid_column": null,
            "grid_gap": null,
            "grid_row": null,
            "grid_template_areas": null,
            "grid_template_columns": null,
            "grid_template_rows": null,
            "height": null,
            "justify_content": null,
            "justify_items": null,
            "left": null,
            "margin": null,
            "max_height": null,
            "max_width": null,
            "min_height": null,
            "min_width": null,
            "object_fit": null,
            "object_position": null,
            "order": null,
            "overflow": null,
            "overflow_x": null,
            "overflow_y": null,
            "padding": null,
            "right": null,
            "top": null,
            "visibility": null,
            "width": null
          }
        },
        "74a7c490f32844d982863f7cd484281d": {
          "model_module": "@jupyter-widgets/base",
          "model_name": "LayoutModel",
          "model_module_version": "1.2.0",
          "state": {
            "_model_module": "@jupyter-widgets/base",
            "_model_module_version": "1.2.0",
            "_model_name": "LayoutModel",
            "_view_count": null,
            "_view_module": "@jupyter-widgets/base",
            "_view_module_version": "1.2.0",
            "_view_name": "LayoutView",
            "align_content": null,
            "align_items": null,
            "align_self": null,
            "border": null,
            "bottom": null,
            "display": null,
            "flex": null,
            "flex_flow": null,
            "grid_area": null,
            "grid_auto_columns": null,
            "grid_auto_flow": null,
            "grid_auto_rows": null,
            "grid_column": null,
            "grid_gap": null,
            "grid_row": null,
            "grid_template_areas": null,
            "grid_template_columns": null,
            "grid_template_rows": null,
            "height": null,
            "justify_content": null,
            "justify_items": null,
            "left": null,
            "margin": null,
            "max_height": null,
            "max_width": null,
            "min_height": null,
            "min_width": null,
            "object_fit": null,
            "object_position": null,
            "order": null,
            "overflow": null,
            "overflow_x": null,
            "overflow_y": null,
            "padding": null,
            "right": null,
            "top": null,
            "visibility": null,
            "width": null
          }
        },
        "2068fefab39e4b358d3aa67d81975ec3": {
          "model_module": "@jupyter-widgets/controls",
          "model_name": "DescriptionStyleModel",
          "model_module_version": "1.5.0",
          "state": {
            "_model_module": "@jupyter-widgets/controls",
            "_model_module_version": "1.5.0",
            "_model_name": "DescriptionStyleModel",
            "_view_count": null,
            "_view_module": "@jupyter-widgets/base",
            "_view_module_version": "1.2.0",
            "_view_name": "StyleView",
            "description_width": ""
          }
        },
        "7df196ee03164c92bbac1f08766ea693": {
          "model_module": "@jupyter-widgets/base",
          "model_name": "LayoutModel",
          "model_module_version": "1.2.0",
          "state": {
            "_model_module": "@jupyter-widgets/base",
            "_model_module_version": "1.2.0",
            "_model_name": "LayoutModel",
            "_view_count": null,
            "_view_module": "@jupyter-widgets/base",
            "_view_module_version": "1.2.0",
            "_view_name": "LayoutView",
            "align_content": null,
            "align_items": null,
            "align_self": null,
            "border": null,
            "bottom": null,
            "display": null,
            "flex": null,
            "flex_flow": null,
            "grid_area": null,
            "grid_auto_columns": null,
            "grid_auto_flow": null,
            "grid_auto_rows": null,
            "grid_column": null,
            "grid_gap": null,
            "grid_row": null,
            "grid_template_areas": null,
            "grid_template_columns": null,
            "grid_template_rows": null,
            "height": null,
            "justify_content": null,
            "justify_items": null,
            "left": null,
            "margin": null,
            "max_height": null,
            "max_width": null,
            "min_height": null,
            "min_width": null,
            "object_fit": null,
            "object_position": null,
            "order": null,
            "overflow": null,
            "overflow_x": null,
            "overflow_y": null,
            "padding": null,
            "right": null,
            "top": null,
            "visibility": null,
            "width": null
          }
        },
        "4bf66e8d7e8047bb90bc8f46f8e86462": {
          "model_module": "@jupyter-widgets/controls",
          "model_name": "ProgressStyleModel",
          "model_module_version": "1.5.0",
          "state": {
            "_model_module": "@jupyter-widgets/controls",
            "_model_module_version": "1.5.0",
            "_model_name": "ProgressStyleModel",
            "_view_count": null,
            "_view_module": "@jupyter-widgets/base",
            "_view_module_version": "1.2.0",
            "_view_name": "StyleView",
            "bar_color": null,
            "description_width": ""
          }
        },
        "25b6c9c6c7ad453989344b3fa48bbe0b": {
          "model_module": "@jupyter-widgets/base",
          "model_name": "LayoutModel",
          "model_module_version": "1.2.0",
          "state": {
            "_model_module": "@jupyter-widgets/base",
            "_model_module_version": "1.2.0",
            "_model_name": "LayoutModel",
            "_view_count": null,
            "_view_module": "@jupyter-widgets/base",
            "_view_module_version": "1.2.0",
            "_view_name": "LayoutView",
            "align_content": null,
            "align_items": null,
            "align_self": null,
            "border": null,
            "bottom": null,
            "display": null,
            "flex": null,
            "flex_flow": null,
            "grid_area": null,
            "grid_auto_columns": null,
            "grid_auto_flow": null,
            "grid_auto_rows": null,
            "grid_column": null,
            "grid_gap": null,
            "grid_row": null,
            "grid_template_areas": null,
            "grid_template_columns": null,
            "grid_template_rows": null,
            "height": null,
            "justify_content": null,
            "justify_items": null,
            "left": null,
            "margin": null,
            "max_height": null,
            "max_width": null,
            "min_height": null,
            "min_width": null,
            "object_fit": null,
            "object_position": null,
            "order": null,
            "overflow": null,
            "overflow_x": null,
            "overflow_y": null,
            "padding": null,
            "right": null,
            "top": null,
            "visibility": null,
            "width": null
          }
        },
        "34b7b40c1dd744cd9e592e4f5c273963": {
          "model_module": "@jupyter-widgets/controls",
          "model_name": "DescriptionStyleModel",
          "model_module_version": "1.5.0",
          "state": {
            "_model_module": "@jupyter-widgets/controls",
            "_model_module_version": "1.5.0",
            "_model_name": "DescriptionStyleModel",
            "_view_count": null,
            "_view_module": "@jupyter-widgets/base",
            "_view_module_version": "1.2.0",
            "_view_name": "StyleView",
            "description_width": ""
          }
        },
        "1e1c9729fed34bdf9c92d96baa0be6eb": {
          "model_module": "@jupyter-widgets/controls",
          "model_name": "HBoxModel",
          "model_module_version": "1.5.0",
          "state": {
            "_dom_classes": [],
            "_model_module": "@jupyter-widgets/controls",
            "_model_module_version": "1.5.0",
            "_model_name": "HBoxModel",
            "_view_count": null,
            "_view_module": "@jupyter-widgets/controls",
            "_view_module_version": "1.5.0",
            "_view_name": "HBoxView",
            "box_style": "",
            "children": [
              "IPY_MODEL_59236e5b66bd4eb3a17aaddb696ae56a",
              "IPY_MODEL_d19a4f579b664694a1ca75e44cd544b9",
              "IPY_MODEL_57607618142040739832f815d6c646ce"
            ],
            "layout": "IPY_MODEL_fda4ed88aae44eff9e3ce5f39c28ffad"
          }
        },
        "59236e5b66bd4eb3a17aaddb696ae56a": {
          "model_module": "@jupyter-widgets/controls",
          "model_name": "HTMLModel",
          "model_module_version": "1.5.0",
          "state": {
            "_dom_classes": [],
            "_model_module": "@jupyter-widgets/controls",
            "_model_module_version": "1.5.0",
            "_model_name": "HTMLModel",
            "_view_count": null,
            "_view_module": "@jupyter-widgets/controls",
            "_view_module_version": "1.5.0",
            "_view_name": "HTMLView",
            "description": "",
            "description_tooltip": null,
            "layout": "IPY_MODEL_04170ce305ed4b13aa0c1a37ae8f9228",
            "placeholder": "​",
            "style": "IPY_MODEL_46765bf4114441e9ba459d88a5034843",
            "value": "merges.txt: 100%"
          }
        },
        "d19a4f579b664694a1ca75e44cd544b9": {
          "model_module": "@jupyter-widgets/controls",
          "model_name": "FloatProgressModel",
          "model_module_version": "1.5.0",
          "state": {
            "_dom_classes": [],
            "_model_module": "@jupyter-widgets/controls",
            "_model_module_version": "1.5.0",
            "_model_name": "FloatProgressModel",
            "_view_count": null,
            "_view_module": "@jupyter-widgets/controls",
            "_view_module_version": "1.5.0",
            "_view_name": "ProgressView",
            "bar_style": "success",
            "description": "",
            "description_tooltip": null,
            "layout": "IPY_MODEL_c715fcc7c6b7421b808c27efca47f136",
            "max": 456318,
            "min": 0,
            "orientation": "horizontal",
            "style": "IPY_MODEL_f85a74d25a024e3b8346bd2e6c78eba9",
            "value": 456318
          }
        },
        "57607618142040739832f815d6c646ce": {
          "model_module": "@jupyter-widgets/controls",
          "model_name": "HTMLModel",
          "model_module_version": "1.5.0",
          "state": {
            "_dom_classes": [],
            "_model_module": "@jupyter-widgets/controls",
            "_model_module_version": "1.5.0",
            "_model_name": "HTMLModel",
            "_view_count": null,
            "_view_module": "@jupyter-widgets/controls",
            "_view_module_version": "1.5.0",
            "_view_name": "HTMLView",
            "description": "",
            "description_tooltip": null,
            "layout": "IPY_MODEL_d28c9a72c6e1472d9f6ce3ec25edd63f",
            "placeholder": "​",
            "style": "IPY_MODEL_701a17e62f604edab4bf78959190e95b",
            "value": " 456k/456k [00:00&lt;00:00, 782kB/s]"
          }
        },
        "fda4ed88aae44eff9e3ce5f39c28ffad": {
          "model_module": "@jupyter-widgets/base",
          "model_name": "LayoutModel",
          "model_module_version": "1.2.0",
          "state": {
            "_model_module": "@jupyter-widgets/base",
            "_model_module_version": "1.2.0",
            "_model_name": "LayoutModel",
            "_view_count": null,
            "_view_module": "@jupyter-widgets/base",
            "_view_module_version": "1.2.0",
            "_view_name": "LayoutView",
            "align_content": null,
            "align_items": null,
            "align_self": null,
            "border": null,
            "bottom": null,
            "display": null,
            "flex": null,
            "flex_flow": null,
            "grid_area": null,
            "grid_auto_columns": null,
            "grid_auto_flow": null,
            "grid_auto_rows": null,
            "grid_column": null,
            "grid_gap": null,
            "grid_row": null,
            "grid_template_areas": null,
            "grid_template_columns": null,
            "grid_template_rows": null,
            "height": null,
            "justify_content": null,
            "justify_items": null,
            "left": null,
            "margin": null,
            "max_height": null,
            "max_width": null,
            "min_height": null,
            "min_width": null,
            "object_fit": null,
            "object_position": null,
            "order": null,
            "overflow": null,
            "overflow_x": null,
            "overflow_y": null,
            "padding": null,
            "right": null,
            "top": null,
            "visibility": null,
            "width": null
          }
        },
        "04170ce305ed4b13aa0c1a37ae8f9228": {
          "model_module": "@jupyter-widgets/base",
          "model_name": "LayoutModel",
          "model_module_version": "1.2.0",
          "state": {
            "_model_module": "@jupyter-widgets/base",
            "_model_module_version": "1.2.0",
            "_model_name": "LayoutModel",
            "_view_count": null,
            "_view_module": "@jupyter-widgets/base",
            "_view_module_version": "1.2.0",
            "_view_name": "LayoutView",
            "align_content": null,
            "align_items": null,
            "align_self": null,
            "border": null,
            "bottom": null,
            "display": null,
            "flex": null,
            "flex_flow": null,
            "grid_area": null,
            "grid_auto_columns": null,
            "grid_auto_flow": null,
            "grid_auto_rows": null,
            "grid_column": null,
            "grid_gap": null,
            "grid_row": null,
            "grid_template_areas": null,
            "grid_template_columns": null,
            "grid_template_rows": null,
            "height": null,
            "justify_content": null,
            "justify_items": null,
            "left": null,
            "margin": null,
            "max_height": null,
            "max_width": null,
            "min_height": null,
            "min_width": null,
            "object_fit": null,
            "object_position": null,
            "order": null,
            "overflow": null,
            "overflow_x": null,
            "overflow_y": null,
            "padding": null,
            "right": null,
            "top": null,
            "visibility": null,
            "width": null
          }
        },
        "46765bf4114441e9ba459d88a5034843": {
          "model_module": "@jupyter-widgets/controls",
          "model_name": "DescriptionStyleModel",
          "model_module_version": "1.5.0",
          "state": {
            "_model_module": "@jupyter-widgets/controls",
            "_model_module_version": "1.5.0",
            "_model_name": "DescriptionStyleModel",
            "_view_count": null,
            "_view_module": "@jupyter-widgets/base",
            "_view_module_version": "1.2.0",
            "_view_name": "StyleView",
            "description_width": ""
          }
        },
        "c715fcc7c6b7421b808c27efca47f136": {
          "model_module": "@jupyter-widgets/base",
          "model_name": "LayoutModel",
          "model_module_version": "1.2.0",
          "state": {
            "_model_module": "@jupyter-widgets/base",
            "_model_module_version": "1.2.0",
            "_model_name": "LayoutModel",
            "_view_count": null,
            "_view_module": "@jupyter-widgets/base",
            "_view_module_version": "1.2.0",
            "_view_name": "LayoutView",
            "align_content": null,
            "align_items": null,
            "align_self": null,
            "border": null,
            "bottom": null,
            "display": null,
            "flex": null,
            "flex_flow": null,
            "grid_area": null,
            "grid_auto_columns": null,
            "grid_auto_flow": null,
            "grid_auto_rows": null,
            "grid_column": null,
            "grid_gap": null,
            "grid_row": null,
            "grid_template_areas": null,
            "grid_template_columns": null,
            "grid_template_rows": null,
            "height": null,
            "justify_content": null,
            "justify_items": null,
            "left": null,
            "margin": null,
            "max_height": null,
            "max_width": null,
            "min_height": null,
            "min_width": null,
            "object_fit": null,
            "object_position": null,
            "order": null,
            "overflow": null,
            "overflow_x": null,
            "overflow_y": null,
            "padding": null,
            "right": null,
            "top": null,
            "visibility": null,
            "width": null
          }
        },
        "f85a74d25a024e3b8346bd2e6c78eba9": {
          "model_module": "@jupyter-widgets/controls",
          "model_name": "ProgressStyleModel",
          "model_module_version": "1.5.0",
          "state": {
            "_model_module": "@jupyter-widgets/controls",
            "_model_module_version": "1.5.0",
            "_model_name": "ProgressStyleModel",
            "_view_count": null,
            "_view_module": "@jupyter-widgets/base",
            "_view_module_version": "1.2.0",
            "_view_name": "StyleView",
            "bar_color": null,
            "description_width": ""
          }
        },
        "d28c9a72c6e1472d9f6ce3ec25edd63f": {
          "model_module": "@jupyter-widgets/base",
          "model_name": "LayoutModel",
          "model_module_version": "1.2.0",
          "state": {
            "_model_module": "@jupyter-widgets/base",
            "_model_module_version": "1.2.0",
            "_model_name": "LayoutModel",
            "_view_count": null,
            "_view_module": "@jupyter-widgets/base",
            "_view_module_version": "1.2.0",
            "_view_name": "LayoutView",
            "align_content": null,
            "align_items": null,
            "align_self": null,
            "border": null,
            "bottom": null,
            "display": null,
            "flex": null,
            "flex_flow": null,
            "grid_area": null,
            "grid_auto_columns": null,
            "grid_auto_flow": null,
            "grid_auto_rows": null,
            "grid_column": null,
            "grid_gap": null,
            "grid_row": null,
            "grid_template_areas": null,
            "grid_template_columns": null,
            "grid_template_rows": null,
            "height": null,
            "justify_content": null,
            "justify_items": null,
            "left": null,
            "margin": null,
            "max_height": null,
            "max_width": null,
            "min_height": null,
            "min_width": null,
            "object_fit": null,
            "object_position": null,
            "order": null,
            "overflow": null,
            "overflow_x": null,
            "overflow_y": null,
            "padding": null,
            "right": null,
            "top": null,
            "visibility": null,
            "width": null
          }
        },
        "701a17e62f604edab4bf78959190e95b": {
          "model_module": "@jupyter-widgets/controls",
          "model_name": "DescriptionStyleModel",
          "model_module_version": "1.5.0",
          "state": {
            "_model_module": "@jupyter-widgets/controls",
            "_model_module_version": "1.5.0",
            "_model_name": "DescriptionStyleModel",
            "_view_count": null,
            "_view_module": "@jupyter-widgets/base",
            "_view_module_version": "1.2.0",
            "_view_name": "StyleView",
            "description_width": ""
          }
        },
        "0bd33ab14f474dd1971df213d2586f01": {
          "model_module": "@jupyter-widgets/controls",
          "model_name": "HBoxModel",
          "model_module_version": "1.5.0",
          "state": {
            "_dom_classes": [],
            "_model_module": "@jupyter-widgets/controls",
            "_model_module_version": "1.5.0",
            "_model_name": "HBoxModel",
            "_view_count": null,
            "_view_module": "@jupyter-widgets/controls",
            "_view_module_version": "1.5.0",
            "_view_name": "HBoxView",
            "box_style": "",
            "children": [
              "IPY_MODEL_b485980ad13a4c6587552ff1c78e19b7",
              "IPY_MODEL_3951bea856f34b3a9a3519130058864f",
              "IPY_MODEL_b84cb41ddf5b4bb7ba599327258baf18"
            ],
            "layout": "IPY_MODEL_eb448bfe35b94057a117269aaae5b881"
          }
        },
        "b485980ad13a4c6587552ff1c78e19b7": {
          "model_module": "@jupyter-widgets/controls",
          "model_name": "HTMLModel",
          "model_module_version": "1.5.0",
          "state": {
            "_dom_classes": [],
            "_model_module": "@jupyter-widgets/controls",
            "_model_module_version": "1.5.0",
            "_model_name": "HTMLModel",
            "_view_count": null,
            "_view_module": "@jupyter-widgets/controls",
            "_view_module_version": "1.5.0",
            "_view_name": "HTMLView",
            "description": "",
            "description_tooltip": null,
            "layout": "IPY_MODEL_7733a07d1cd344aebbec1a167000543a",
            "placeholder": "​",
            "style": "IPY_MODEL_38284acc057d4795898a35e7a1234c42",
            "value": "tokenizer.json: 100%"
          }
        },
        "3951bea856f34b3a9a3519130058864f": {
          "model_module": "@jupyter-widgets/controls",
          "model_name": "FloatProgressModel",
          "model_module_version": "1.5.0",
          "state": {
            "_dom_classes": [],
            "_model_module": "@jupyter-widgets/controls",
            "_model_module_version": "1.5.0",
            "_model_name": "FloatProgressModel",
            "_view_count": null,
            "_view_module": "@jupyter-widgets/controls",
            "_view_module_version": "1.5.0",
            "_view_name": "ProgressView",
            "bar_style": "success",
            "description": "",
            "description_tooltip": null,
            "layout": "IPY_MODEL_ddd007799bde4c3b97e7e1539f170edd",
            "max": 1355256,
            "min": 0,
            "orientation": "horizontal",
            "style": "IPY_MODEL_6ee90f9fb4534c879a1107a9749bc1f9",
            "value": 1355256
          }
        },
        "b84cb41ddf5b4bb7ba599327258baf18": {
          "model_module": "@jupyter-widgets/controls",
          "model_name": "HTMLModel",
          "model_module_version": "1.5.0",
          "state": {
            "_dom_classes": [],
            "_model_module": "@jupyter-widgets/controls",
            "_model_module_version": "1.5.0",
            "_model_name": "HTMLModel",
            "_view_count": null,
            "_view_module": "@jupyter-widgets/controls",
            "_view_module_version": "1.5.0",
            "_view_name": "HTMLView",
            "description": "",
            "description_tooltip": null,
            "layout": "IPY_MODEL_1573dd5ff49b40fab018ddf501027131",
            "placeholder": "​",
            "style": "IPY_MODEL_f93e1b9d74de49a1af2ae06932346c6a",
            "value": " 1.36M/1.36M [00:00&lt;00:00, 1.39MB/s]"
          }
        },
        "eb448bfe35b94057a117269aaae5b881": {
          "model_module": "@jupyter-widgets/base",
          "model_name": "LayoutModel",
          "model_module_version": "1.2.0",
          "state": {
            "_model_module": "@jupyter-widgets/base",
            "_model_module_version": "1.2.0",
            "_model_name": "LayoutModel",
            "_view_count": null,
            "_view_module": "@jupyter-widgets/base",
            "_view_module_version": "1.2.0",
            "_view_name": "LayoutView",
            "align_content": null,
            "align_items": null,
            "align_self": null,
            "border": null,
            "bottom": null,
            "display": null,
            "flex": null,
            "flex_flow": null,
            "grid_area": null,
            "grid_auto_columns": null,
            "grid_auto_flow": null,
            "grid_auto_rows": null,
            "grid_column": null,
            "grid_gap": null,
            "grid_row": null,
            "grid_template_areas": null,
            "grid_template_columns": null,
            "grid_template_rows": null,
            "height": null,
            "justify_content": null,
            "justify_items": null,
            "left": null,
            "margin": null,
            "max_height": null,
            "max_width": null,
            "min_height": null,
            "min_width": null,
            "object_fit": null,
            "object_position": null,
            "order": null,
            "overflow": null,
            "overflow_x": null,
            "overflow_y": null,
            "padding": null,
            "right": null,
            "top": null,
            "visibility": null,
            "width": null
          }
        },
        "7733a07d1cd344aebbec1a167000543a": {
          "model_module": "@jupyter-widgets/base",
          "model_name": "LayoutModel",
          "model_module_version": "1.2.0",
          "state": {
            "_model_module": "@jupyter-widgets/base",
            "_model_module_version": "1.2.0",
            "_model_name": "LayoutModel",
            "_view_count": null,
            "_view_module": "@jupyter-widgets/base",
            "_view_module_version": "1.2.0",
            "_view_name": "LayoutView",
            "align_content": null,
            "align_items": null,
            "align_self": null,
            "border": null,
            "bottom": null,
            "display": null,
            "flex": null,
            "flex_flow": null,
            "grid_area": null,
            "grid_auto_columns": null,
            "grid_auto_flow": null,
            "grid_auto_rows": null,
            "grid_column": null,
            "grid_gap": null,
            "grid_row": null,
            "grid_template_areas": null,
            "grid_template_columns": null,
            "grid_template_rows": null,
            "height": null,
            "justify_content": null,
            "justify_items": null,
            "left": null,
            "margin": null,
            "max_height": null,
            "max_width": null,
            "min_height": null,
            "min_width": null,
            "object_fit": null,
            "object_position": null,
            "order": null,
            "overflow": null,
            "overflow_x": null,
            "overflow_y": null,
            "padding": null,
            "right": null,
            "top": null,
            "visibility": null,
            "width": null
          }
        },
        "38284acc057d4795898a35e7a1234c42": {
          "model_module": "@jupyter-widgets/controls",
          "model_name": "DescriptionStyleModel",
          "model_module_version": "1.5.0",
          "state": {
            "_model_module": "@jupyter-widgets/controls",
            "_model_module_version": "1.5.0",
            "_model_name": "DescriptionStyleModel",
            "_view_count": null,
            "_view_module": "@jupyter-widgets/base",
            "_view_module_version": "1.2.0",
            "_view_name": "StyleView",
            "description_width": ""
          }
        },
        "ddd007799bde4c3b97e7e1539f170edd": {
          "model_module": "@jupyter-widgets/base",
          "model_name": "LayoutModel",
          "model_module_version": "1.2.0",
          "state": {
            "_model_module": "@jupyter-widgets/base",
            "_model_module_version": "1.2.0",
            "_model_name": "LayoutModel",
            "_view_count": null,
            "_view_module": "@jupyter-widgets/base",
            "_view_module_version": "1.2.0",
            "_view_name": "LayoutView",
            "align_content": null,
            "align_items": null,
            "align_self": null,
            "border": null,
            "bottom": null,
            "display": null,
            "flex": null,
            "flex_flow": null,
            "grid_area": null,
            "grid_auto_columns": null,
            "grid_auto_flow": null,
            "grid_auto_rows": null,
            "grid_column": null,
            "grid_gap": null,
            "grid_row": null,
            "grid_template_areas": null,
            "grid_template_columns": null,
            "grid_template_rows": null,
            "height": null,
            "justify_content": null,
            "justify_items": null,
            "left": null,
            "margin": null,
            "max_height": null,
            "max_width": null,
            "min_height": null,
            "min_width": null,
            "object_fit": null,
            "object_position": null,
            "order": null,
            "overflow": null,
            "overflow_x": null,
            "overflow_y": null,
            "padding": null,
            "right": null,
            "top": null,
            "visibility": null,
            "width": null
          }
        },
        "6ee90f9fb4534c879a1107a9749bc1f9": {
          "model_module": "@jupyter-widgets/controls",
          "model_name": "ProgressStyleModel",
          "model_module_version": "1.5.0",
          "state": {
            "_model_module": "@jupyter-widgets/controls",
            "_model_module_version": "1.5.0",
            "_model_name": "ProgressStyleModel",
            "_view_count": null,
            "_view_module": "@jupyter-widgets/base",
            "_view_module_version": "1.2.0",
            "_view_name": "StyleView",
            "bar_color": null,
            "description_width": ""
          }
        },
        "1573dd5ff49b40fab018ddf501027131": {
          "model_module": "@jupyter-widgets/base",
          "model_name": "LayoutModel",
          "model_module_version": "1.2.0",
          "state": {
            "_model_module": "@jupyter-widgets/base",
            "_model_module_version": "1.2.0",
            "_model_name": "LayoutModel",
            "_view_count": null,
            "_view_module": "@jupyter-widgets/base",
            "_view_module_version": "1.2.0",
            "_view_name": "LayoutView",
            "align_content": null,
            "align_items": null,
            "align_self": null,
            "border": null,
            "bottom": null,
            "display": null,
            "flex": null,
            "flex_flow": null,
            "grid_area": null,
            "grid_auto_columns": null,
            "grid_auto_flow": null,
            "grid_auto_rows": null,
            "grid_column": null,
            "grid_gap": null,
            "grid_row": null,
            "grid_template_areas": null,
            "grid_template_columns": null,
            "grid_template_rows": null,
            "height": null,
            "justify_content": null,
            "justify_items": null,
            "left": null,
            "margin": null,
            "max_height": null,
            "max_width": null,
            "min_height": null,
            "min_width": null,
            "object_fit": null,
            "object_position": null,
            "order": null,
            "overflow": null,
            "overflow_x": null,
            "overflow_y": null,
            "padding": null,
            "right": null,
            "top": null,
            "visibility": null,
            "width": null
          }
        },
        "f93e1b9d74de49a1af2ae06932346c6a": {
          "model_module": "@jupyter-widgets/controls",
          "model_name": "DescriptionStyleModel",
          "model_module_version": "1.5.0",
          "state": {
            "_model_module": "@jupyter-widgets/controls",
            "_model_module_version": "1.5.0",
            "_model_name": "DescriptionStyleModel",
            "_view_count": null,
            "_view_module": "@jupyter-widgets/base",
            "_view_module_version": "1.2.0",
            "_view_name": "StyleView",
            "description_width": ""
          }
        },
        "738a93c7828e47ed904dbce77640eb37": {
          "model_module": "@jupyter-widgets/controls",
          "model_name": "HBoxModel",
          "model_module_version": "1.5.0",
          "state": {
            "_dom_classes": [],
            "_model_module": "@jupyter-widgets/controls",
            "_model_module_version": "1.5.0",
            "_model_name": "HBoxModel",
            "_view_count": null,
            "_view_module": "@jupyter-widgets/controls",
            "_view_module_version": "1.5.0",
            "_view_name": "HBoxView",
            "box_style": "",
            "children": [
              "IPY_MODEL_7ae8a462ade244bdb96aa406126725aa",
              "IPY_MODEL_ed6b2a4b335b4e0dba163ac66e67acc0",
              "IPY_MODEL_82d30de12b1b48de88c356c9f2e374fe"
            ],
            "layout": "IPY_MODEL_63b7d56def9d4b0bb6bc90e7ce4d0583"
          }
        },
        "7ae8a462ade244bdb96aa406126725aa": {
          "model_module": "@jupyter-widgets/controls",
          "model_name": "HTMLModel",
          "model_module_version": "1.5.0",
          "state": {
            "_dom_classes": [],
            "_model_module": "@jupyter-widgets/controls",
            "_model_module_version": "1.5.0",
            "_model_name": "HTMLModel",
            "_view_count": null,
            "_view_module": "@jupyter-widgets/controls",
            "_view_module_version": "1.5.0",
            "_view_name": "HTMLView",
            "description": "",
            "description_tooltip": null,
            "layout": "IPY_MODEL_a1043c24a4c94ef7a18d26633788aa38",
            "placeholder": "​",
            "style": "IPY_MODEL_64378966dd3f45518d3b215a9834484c",
            "value": "config.json: 100%"
          }
        },
        "ed6b2a4b335b4e0dba163ac66e67acc0": {
          "model_module": "@jupyter-widgets/controls",
          "model_name": "FloatProgressModel",
          "model_module_version": "1.5.0",
          "state": {
            "_dom_classes": [],
            "_model_module": "@jupyter-widgets/controls",
            "_model_module_version": "1.5.0",
            "_model_name": "FloatProgressModel",
            "_view_count": null,
            "_view_module": "@jupyter-widgets/controls",
            "_view_module_version": "1.5.0",
            "_view_name": "ProgressView",
            "bar_style": "success",
            "description": "",
            "description_tooltip": null,
            "layout": "IPY_MODEL_7ff272a1a14f4f8cb5007016edd4a9a0",
            "max": 665,
            "min": 0,
            "orientation": "horizontal",
            "style": "IPY_MODEL_da614ec72f2e4b0493151c4881eaa792",
            "value": 665
          }
        },
        "82d30de12b1b48de88c356c9f2e374fe": {
          "model_module": "@jupyter-widgets/controls",
          "model_name": "HTMLModel",
          "model_module_version": "1.5.0",
          "state": {
            "_dom_classes": [],
            "_model_module": "@jupyter-widgets/controls",
            "_model_module_version": "1.5.0",
            "_model_name": "HTMLModel",
            "_view_count": null,
            "_view_module": "@jupyter-widgets/controls",
            "_view_module_version": "1.5.0",
            "_view_name": "HTMLView",
            "description": "",
            "description_tooltip": null,
            "layout": "IPY_MODEL_ce3c9f5b07184e15822d3b3a4d78a666",
            "placeholder": "​",
            "style": "IPY_MODEL_127c1a453a1145d1b31dd1d4e7b0ca53",
            "value": " 665/665 [00:00&lt;00:00, 38.8kB/s]"
          }
        },
        "63b7d56def9d4b0bb6bc90e7ce4d0583": {
          "model_module": "@jupyter-widgets/base",
          "model_name": "LayoutModel",
          "model_module_version": "1.2.0",
          "state": {
            "_model_module": "@jupyter-widgets/base",
            "_model_module_version": "1.2.0",
            "_model_name": "LayoutModel",
            "_view_count": null,
            "_view_module": "@jupyter-widgets/base",
            "_view_module_version": "1.2.0",
            "_view_name": "LayoutView",
            "align_content": null,
            "align_items": null,
            "align_self": null,
            "border": null,
            "bottom": null,
            "display": null,
            "flex": null,
            "flex_flow": null,
            "grid_area": null,
            "grid_auto_columns": null,
            "grid_auto_flow": null,
            "grid_auto_rows": null,
            "grid_column": null,
            "grid_gap": null,
            "grid_row": null,
            "grid_template_areas": null,
            "grid_template_columns": null,
            "grid_template_rows": null,
            "height": null,
            "justify_content": null,
            "justify_items": null,
            "left": null,
            "margin": null,
            "max_height": null,
            "max_width": null,
            "min_height": null,
            "min_width": null,
            "object_fit": null,
            "object_position": null,
            "order": null,
            "overflow": null,
            "overflow_x": null,
            "overflow_y": null,
            "padding": null,
            "right": null,
            "top": null,
            "visibility": null,
            "width": null
          }
        },
        "a1043c24a4c94ef7a18d26633788aa38": {
          "model_module": "@jupyter-widgets/base",
          "model_name": "LayoutModel",
          "model_module_version": "1.2.0",
          "state": {
            "_model_module": "@jupyter-widgets/base",
            "_model_module_version": "1.2.0",
            "_model_name": "LayoutModel",
            "_view_count": null,
            "_view_module": "@jupyter-widgets/base",
            "_view_module_version": "1.2.0",
            "_view_name": "LayoutView",
            "align_content": null,
            "align_items": null,
            "align_self": null,
            "border": null,
            "bottom": null,
            "display": null,
            "flex": null,
            "flex_flow": null,
            "grid_area": null,
            "grid_auto_columns": null,
            "grid_auto_flow": null,
            "grid_auto_rows": null,
            "grid_column": null,
            "grid_gap": null,
            "grid_row": null,
            "grid_template_areas": null,
            "grid_template_columns": null,
            "grid_template_rows": null,
            "height": null,
            "justify_content": null,
            "justify_items": null,
            "left": null,
            "margin": null,
            "max_height": null,
            "max_width": null,
            "min_height": null,
            "min_width": null,
            "object_fit": null,
            "object_position": null,
            "order": null,
            "overflow": null,
            "overflow_x": null,
            "overflow_y": null,
            "padding": null,
            "right": null,
            "top": null,
            "visibility": null,
            "width": null
          }
        },
        "64378966dd3f45518d3b215a9834484c": {
          "model_module": "@jupyter-widgets/controls",
          "model_name": "DescriptionStyleModel",
          "model_module_version": "1.5.0",
          "state": {
            "_model_module": "@jupyter-widgets/controls",
            "_model_module_version": "1.5.0",
            "_model_name": "DescriptionStyleModel",
            "_view_count": null,
            "_view_module": "@jupyter-widgets/base",
            "_view_module_version": "1.2.0",
            "_view_name": "StyleView",
            "description_width": ""
          }
        },
        "7ff272a1a14f4f8cb5007016edd4a9a0": {
          "model_module": "@jupyter-widgets/base",
          "model_name": "LayoutModel",
          "model_module_version": "1.2.0",
          "state": {
            "_model_module": "@jupyter-widgets/base",
            "_model_module_version": "1.2.0",
            "_model_name": "LayoutModel",
            "_view_count": null,
            "_view_module": "@jupyter-widgets/base",
            "_view_module_version": "1.2.0",
            "_view_name": "LayoutView",
            "align_content": null,
            "align_items": null,
            "align_self": null,
            "border": null,
            "bottom": null,
            "display": null,
            "flex": null,
            "flex_flow": null,
            "grid_area": null,
            "grid_auto_columns": null,
            "grid_auto_flow": null,
            "grid_auto_rows": null,
            "grid_column": null,
            "grid_gap": null,
            "grid_row": null,
            "grid_template_areas": null,
            "grid_template_columns": null,
            "grid_template_rows": null,
            "height": null,
            "justify_content": null,
            "justify_items": null,
            "left": null,
            "margin": null,
            "max_height": null,
            "max_width": null,
            "min_height": null,
            "min_width": null,
            "object_fit": null,
            "object_position": null,
            "order": null,
            "overflow": null,
            "overflow_x": null,
            "overflow_y": null,
            "padding": null,
            "right": null,
            "top": null,
            "visibility": null,
            "width": null
          }
        },
        "da614ec72f2e4b0493151c4881eaa792": {
          "model_module": "@jupyter-widgets/controls",
          "model_name": "ProgressStyleModel",
          "model_module_version": "1.5.0",
          "state": {
            "_model_module": "@jupyter-widgets/controls",
            "_model_module_version": "1.5.0",
            "_model_name": "ProgressStyleModel",
            "_view_count": null,
            "_view_module": "@jupyter-widgets/base",
            "_view_module_version": "1.2.0",
            "_view_name": "StyleView",
            "bar_color": null,
            "description_width": ""
          }
        },
        "ce3c9f5b07184e15822d3b3a4d78a666": {
          "model_module": "@jupyter-widgets/base",
          "model_name": "LayoutModel",
          "model_module_version": "1.2.0",
          "state": {
            "_model_module": "@jupyter-widgets/base",
            "_model_module_version": "1.2.0",
            "_model_name": "LayoutModel",
            "_view_count": null,
            "_view_module": "@jupyter-widgets/base",
            "_view_module_version": "1.2.0",
            "_view_name": "LayoutView",
            "align_content": null,
            "align_items": null,
            "align_self": null,
            "border": null,
            "bottom": null,
            "display": null,
            "flex": null,
            "flex_flow": null,
            "grid_area": null,
            "grid_auto_columns": null,
            "grid_auto_flow": null,
            "grid_auto_rows": null,
            "grid_column": null,
            "grid_gap": null,
            "grid_row": null,
            "grid_template_areas": null,
            "grid_template_columns": null,
            "grid_template_rows": null,
            "height": null,
            "justify_content": null,
            "justify_items": null,
            "left": null,
            "margin": null,
            "max_height": null,
            "max_width": null,
            "min_height": null,
            "min_width": null,
            "object_fit": null,
            "object_position": null,
            "order": null,
            "overflow": null,
            "overflow_x": null,
            "overflow_y": null,
            "padding": null,
            "right": null,
            "top": null,
            "visibility": null,
            "width": null
          }
        },
        "127c1a453a1145d1b31dd1d4e7b0ca53": {
          "model_module": "@jupyter-widgets/controls",
          "model_name": "DescriptionStyleModel",
          "model_module_version": "1.5.0",
          "state": {
            "_model_module": "@jupyter-widgets/controls",
            "_model_module_version": "1.5.0",
            "_model_name": "DescriptionStyleModel",
            "_view_count": null,
            "_view_module": "@jupyter-widgets/base",
            "_view_module_version": "1.2.0",
            "_view_name": "StyleView",
            "description_width": ""
          }
        }
      }
    }
  },
  "nbformat": 4,
  "nbformat_minor": 0
}
=======
 "cells": [
  {
   "cell_type": "code",
   "execution_count": 1,
   "metadata": {},
   "outputs": [
    {
     "ename": "ImportError",
     "evalue": "cannot import name 'COMMON_SAFE_ASCII_CHARACTERS' from 'charset_normalizer.constant' (/home/vittorio/miniconda3/envs/DeepLeaarning/lib/python3.8/site-packages/charset_normalizer/constant.py)",
     "output_type": "error",
     "traceback": [
      "\u001b[0;31m---------------------------------------------------------------------------\u001b[0m",
      "\u001b[0;31mModuleNotFoundError\u001b[0m                       Traceback (most recent call last)",
      "File \u001b[0;32m~/miniconda3/envs/DeepLeaarning/lib/python3.8/site-packages/requests/compat.py:11\u001b[0m\n\u001b[1;32m     10\u001b[0m \u001b[39mtry\u001b[39;00m:\n\u001b[0;32m---> 11\u001b[0m     \u001b[39mimport\u001b[39;00m \u001b[39mchardet\u001b[39;00m\n\u001b[1;32m     12\u001b[0m \u001b[39mexcept\u001b[39;00m \u001b[39mImportError\u001b[39;00m:\n",
      "\u001b[0;31mModuleNotFoundError\u001b[0m: No module named 'chardet'",
      "\nDuring handling of the above exception, another exception occurred:\n",
      "\u001b[0;31mImportError\u001b[0m                               Traceback (most recent call last)",
      "Cell \u001b[0;32mIn[1], line 3\u001b[0m\n\u001b[1;32m      1\u001b[0m \u001b[39mimport\u001b[39;00m \u001b[39mos\u001b[39;00m\n\u001b[1;32m      2\u001b[0m \u001b[39mimport\u001b[39;00m \u001b[39mjson\u001b[39;00m\n\u001b[0;32m----> 3\u001b[0m \u001b[39mfrom\u001b[39;00m \u001b[39mtransformers\u001b[39;00m \u001b[39mimport\u001b[39;00m GPT2LMHeadModel, GPT2Tokenizer, GPT2Config, AdamW\n\u001b[1;32m      4\u001b[0m \u001b[39mfrom\u001b[39;00m \u001b[39mtorch\u001b[39;00m\u001b[39m.\u001b[39;00m\u001b[39mnn\u001b[39;00m \u001b[39mimport\u001b[39;00m CrossEntropyLoss\n\u001b[1;32m      5\u001b[0m \u001b[39mfrom\u001b[39;00m \u001b[39mtorch\u001b[39;00m\u001b[39m.\u001b[39;00m\u001b[39mutils\u001b[39;00m\u001b[39m.\u001b[39;00m\u001b[39mdata\u001b[39;00m \u001b[39mimport\u001b[39;00m DataLoader, Dataset\n",
      "File \u001b[0;32m~/miniconda3/envs/DeepLeaarning/lib/python3.8/site-packages/transformers/__init__.py:26\u001b[0m\n\u001b[1;32m     23\u001b[0m \u001b[39mfrom\u001b[39;00m \u001b[39mtyping\u001b[39;00m \u001b[39mimport\u001b[39;00m TYPE_CHECKING\n\u001b[1;32m     25\u001b[0m \u001b[39m# Check the dependencies satisfy the minimal versions required.\u001b[39;00m\n\u001b[0;32m---> 26\u001b[0m \u001b[39mfrom\u001b[39;00m \u001b[39m.\u001b[39;00m \u001b[39mimport\u001b[39;00m dependency_versions_check\n\u001b[1;32m     27\u001b[0m \u001b[39mfrom\u001b[39;00m \u001b[39m.\u001b[39;00m\u001b[39mutils\u001b[39;00m \u001b[39mimport\u001b[39;00m (\n\u001b[1;32m     28\u001b[0m     OptionalDependencyNotAvailable,\n\u001b[1;32m     29\u001b[0m     _LazyModule,\n\u001b[0;32m   (...)\u001b[0m\n\u001b[1;32m     46\u001b[0m     logging,\n\u001b[1;32m     47\u001b[0m )\n\u001b[1;32m     50\u001b[0m logger \u001b[39m=\u001b[39m logging\u001b[39m.\u001b[39mget_logger(\u001b[39m__name__\u001b[39m)  \u001b[39m# pylint: disable=invalid-name\u001b[39;00m\n",
      "File \u001b[0;32m~/miniconda3/envs/DeepLeaarning/lib/python3.8/site-packages/transformers/dependency_versions_check.py:16\u001b[0m\n\u001b[1;32m      1\u001b[0m \u001b[39m# Copyright 2020 The HuggingFace Team. All rights reserved.\u001b[39;00m\n\u001b[1;32m      2\u001b[0m \u001b[39m#\u001b[39;00m\n\u001b[1;32m      3\u001b[0m \u001b[39m# Licensed under the Apache License, Version 2.0 (the \"License\");\u001b[39;00m\n\u001b[0;32m   (...)\u001b[0m\n\u001b[1;32m     12\u001b[0m \u001b[39m# See the License for the specific language governing permissions and\u001b[39;00m\n\u001b[1;32m     13\u001b[0m \u001b[39m# limitations under the License.\u001b[39;00m\n\u001b[1;32m     15\u001b[0m \u001b[39mfrom\u001b[39;00m \u001b[39m.\u001b[39;00m\u001b[39mdependency_versions_table\u001b[39;00m \u001b[39mimport\u001b[39;00m deps\n\u001b[0;32m---> 16\u001b[0m \u001b[39mfrom\u001b[39;00m \u001b[39m.\u001b[39;00m\u001b[39mutils\u001b[39;00m\u001b[39m.\u001b[39;00m\u001b[39mversions\u001b[39;00m \u001b[39mimport\u001b[39;00m require_version, require_version_core\n\u001b[1;32m     19\u001b[0m \u001b[39m# define which module versions we always want to check at run time\u001b[39;00m\n\u001b[1;32m     20\u001b[0m \u001b[39m# (usually the ones defined in `install_requires` in setup.py)\u001b[39;00m\n\u001b[1;32m     21\u001b[0m \u001b[39m#\u001b[39;00m\n\u001b[1;32m     22\u001b[0m \u001b[39m# order specific notes:\u001b[39;00m\n\u001b[1;32m     23\u001b[0m \u001b[39m# - tqdm must be checked before tokenizers\u001b[39;00m\n\u001b[1;32m     25\u001b[0m pkgs_to_check_at_runtime \u001b[39m=\u001b[39m [\n\u001b[1;32m     26\u001b[0m     \u001b[39m\"\u001b[39m\u001b[39mpython\u001b[39m\u001b[39m\"\u001b[39m,\n\u001b[1;32m     27\u001b[0m     \u001b[39m\"\u001b[39m\u001b[39mtqdm\u001b[39m\u001b[39m\"\u001b[39m,\n\u001b[0;32m   (...)\u001b[0m\n\u001b[1;32m     37\u001b[0m     \u001b[39m\"\u001b[39m\u001b[39mpyyaml\u001b[39m\u001b[39m\"\u001b[39m,\n\u001b[1;32m     38\u001b[0m ]\n",
      "File \u001b[0;32m~/miniconda3/envs/DeepLeaarning/lib/python3.8/site-packages/transformers/utils/__init__.py:18\u001b[0m\n\u001b[1;32m      1\u001b[0m \u001b[39m#!/usr/bin/env python\u001b[39;00m\n\u001b[1;32m      2\u001b[0m \u001b[39m# coding=utf-8\u001b[39;00m\n\u001b[1;32m      3\u001b[0m \n\u001b[0;32m   (...)\u001b[0m\n\u001b[1;32m     15\u001b[0m \u001b[39m# See the License for the specific language governing permissions and\u001b[39;00m\n\u001b[1;32m     16\u001b[0m \u001b[39m# limitations under the License.\u001b[39;00m\n\u001b[0;32m---> 18\u001b[0m \u001b[39mfrom\u001b[39;00m \u001b[39mhuggingface_hub\u001b[39;00m \u001b[39mimport\u001b[39;00m get_full_repo_name  \u001b[39m# for backward compatibility\u001b[39;00m\n\u001b[1;32m     19\u001b[0m \u001b[39mfrom\u001b[39;00m \u001b[39mpackaging\u001b[39;00m \u001b[39mimport\u001b[39;00m version\n\u001b[1;32m     21\u001b[0m \u001b[39mfrom\u001b[39;00m \u001b[39m.\u001b[39;00m\u001b[39m.\u001b[39;00m \u001b[39mimport\u001b[39;00m __version__\n",
      "File \u001b[0;32m~/miniconda3/envs/DeepLeaarning/lib/python3.8/site-packages/huggingface_hub/__init__.py:357\u001b[0m, in \u001b[0;36m_attach.<locals>.__getattr__\u001b[0;34m(name)\u001b[0m\n\u001b[1;32m    355\u001b[0m \u001b[39melif\u001b[39;00m name \u001b[39min\u001b[39;00m attr_to_modules:\n\u001b[1;32m    356\u001b[0m     submod_path \u001b[39m=\u001b[39m \u001b[39mf\u001b[39m\u001b[39m\"\u001b[39m\u001b[39m{\u001b[39;00mpackage_name\u001b[39m}\u001b[39;00m\u001b[39m.\u001b[39m\u001b[39m{\u001b[39;00mattr_to_modules[name]\u001b[39m}\u001b[39;00m\u001b[39m\"\u001b[39m\n\u001b[0;32m--> 357\u001b[0m     submod \u001b[39m=\u001b[39m importlib\u001b[39m.\u001b[39;49mimport_module(submod_path)\n\u001b[1;32m    358\u001b[0m     attr \u001b[39m=\u001b[39m \u001b[39mgetattr\u001b[39m(submod, name)\n\u001b[1;32m    360\u001b[0m     \u001b[39m# If the attribute lives in a file (module) with the same\u001b[39;00m\n\u001b[1;32m    361\u001b[0m     \u001b[39m# name as the attribute, ensure that the attribute and *not*\u001b[39;00m\n\u001b[1;32m    362\u001b[0m     \u001b[39m# the module is accessible on the package.\u001b[39;00m\n",
      "File \u001b[0;32m~/miniconda3/envs/DeepLeaarning/lib/python3.8/importlib/__init__.py:127\u001b[0m, in \u001b[0;36mimport_module\u001b[0;34m(name, package)\u001b[0m\n\u001b[1;32m    125\u001b[0m             \u001b[39mbreak\u001b[39;00m\n\u001b[1;32m    126\u001b[0m         level \u001b[39m+\u001b[39m\u001b[39m=\u001b[39m \u001b[39m1\u001b[39m\n\u001b[0;32m--> 127\u001b[0m \u001b[39mreturn\u001b[39;00m _bootstrap\u001b[39m.\u001b[39;49m_gcd_import(name[level:], package, level)\n",
      "File \u001b[0;32m~/miniconda3/envs/DeepLeaarning/lib/python3.8/site-packages/huggingface_hub/hf_api.py:45\u001b[0m\n\u001b[1;32m     27\u001b[0m \u001b[39mfrom\u001b[39;00m \u001b[39mtyping\u001b[39;00m \u001b[39mimport\u001b[39;00m (\n\u001b[1;32m     28\u001b[0m     Any,\n\u001b[1;32m     29\u001b[0m     BinaryIO,\n\u001b[0;32m   (...)\u001b[0m\n\u001b[1;32m     41\u001b[0m     overload,\n\u001b[1;32m     42\u001b[0m )\n\u001b[1;32m     43\u001b[0m \u001b[39mfrom\u001b[39;00m \u001b[39murllib\u001b[39;00m\u001b[39m.\u001b[39;00m\u001b[39mparse\u001b[39;00m \u001b[39mimport\u001b[39;00m quote\n\u001b[0;32m---> 45\u001b[0m \u001b[39mimport\u001b[39;00m \u001b[39mrequests\u001b[39;00m\n\u001b[1;32m     46\u001b[0m \u001b[39mfrom\u001b[39;00m \u001b[39mrequests\u001b[39;00m\u001b[39m.\u001b[39;00m\u001b[39mexceptions\u001b[39;00m \u001b[39mimport\u001b[39;00m HTTPError\n\u001b[1;32m     47\u001b[0m \u001b[39mfrom\u001b[39;00m \u001b[39mtqdm\u001b[39;00m\u001b[39m.\u001b[39;00m\u001b[39mauto\u001b[39;00m \u001b[39mimport\u001b[39;00m tqdm \u001b[39mas\u001b[39;00m base_tqdm\n",
      "File \u001b[0;32m~/miniconda3/envs/DeepLeaarning/lib/python3.8/site-packages/requests/__init__.py:45\u001b[0m\n\u001b[1;32m     41\u001b[0m \u001b[39mimport\u001b[39;00m \u001b[39mwarnings\u001b[39;00m\n\u001b[1;32m     43\u001b[0m \u001b[39mimport\u001b[39;00m \u001b[39murllib3\u001b[39;00m\n\u001b[0;32m---> 45\u001b[0m \u001b[39mfrom\u001b[39;00m \u001b[39m.\u001b[39;00m\u001b[39mexceptions\u001b[39;00m \u001b[39mimport\u001b[39;00m RequestsDependencyWarning\n\u001b[1;32m     47\u001b[0m \u001b[39mtry\u001b[39;00m:\n\u001b[1;32m     48\u001b[0m     \u001b[39mfrom\u001b[39;00m \u001b[39mcharset_normalizer\u001b[39;00m \u001b[39mimport\u001b[39;00m __version__ \u001b[39mas\u001b[39;00m charset_normalizer_version\n",
      "File \u001b[0;32m~/miniconda3/envs/DeepLeaarning/lib/python3.8/site-packages/requests/exceptions.py:9\u001b[0m\n\u001b[1;32m      1\u001b[0m \u001b[39m\"\"\"\u001b[39;00m\n\u001b[1;32m      2\u001b[0m \u001b[39mrequests.exceptions\u001b[39;00m\n\u001b[1;32m      3\u001b[0m \u001b[39m~~~~~~~~~~~~~~~~~~~\u001b[39;00m\n\u001b[1;32m      4\u001b[0m \n\u001b[1;32m      5\u001b[0m \u001b[39mThis module contains the set of Requests' exceptions.\u001b[39;00m\n\u001b[1;32m      6\u001b[0m \u001b[39m\"\"\"\u001b[39;00m\n\u001b[1;32m      7\u001b[0m \u001b[39mfrom\u001b[39;00m \u001b[39murllib3\u001b[39;00m\u001b[39m.\u001b[39;00m\u001b[39mexceptions\u001b[39;00m \u001b[39mimport\u001b[39;00m HTTPError \u001b[39mas\u001b[39;00m BaseHTTPError\n\u001b[0;32m----> 9\u001b[0m \u001b[39mfrom\u001b[39;00m \u001b[39m.\u001b[39;00m\u001b[39mcompat\u001b[39;00m \u001b[39mimport\u001b[39;00m JSONDecodeError \u001b[39mas\u001b[39;00m CompatJSONDecodeError\n\u001b[1;32m     12\u001b[0m \u001b[39mclass\u001b[39;00m \u001b[39mRequestException\u001b[39;00m(\u001b[39mIOError\u001b[39;00m):\n\u001b[1;32m     13\u001b[0m \u001b[39m    \u001b[39m\u001b[39m\"\"\"There was an ambiguous exception that occurred while handling your\u001b[39;00m\n\u001b[1;32m     14\u001b[0m \u001b[39m    request.\u001b[39;00m\n\u001b[1;32m     15\u001b[0m \u001b[39m    \"\"\"\u001b[39;00m\n",
      "File \u001b[0;32m~/miniconda3/envs/DeepLeaarning/lib/python3.8/site-packages/requests/compat.py:13\u001b[0m\n\u001b[1;32m     11\u001b[0m     \u001b[39mimport\u001b[39;00m \u001b[39mchardet\u001b[39;00m\n\u001b[1;32m     12\u001b[0m \u001b[39mexcept\u001b[39;00m \u001b[39mImportError\u001b[39;00m:\n\u001b[0;32m---> 13\u001b[0m     \u001b[39mimport\u001b[39;00m \u001b[39mcharset_normalizer\u001b[39;00m \u001b[39mas\u001b[39;00m \u001b[39mchardet\u001b[39;00m\n\u001b[1;32m     15\u001b[0m \u001b[39mimport\u001b[39;00m \u001b[39msys\u001b[39;00m\n\u001b[1;32m     17\u001b[0m \u001b[39m# -------\u001b[39;00m\n\u001b[1;32m     18\u001b[0m \u001b[39m# Pythons\u001b[39;00m\n\u001b[1;32m     19\u001b[0m \u001b[39m# -------\u001b[39;00m\n\u001b[1;32m     20\u001b[0m \n\u001b[1;32m     21\u001b[0m \u001b[39m# Syntax sugar.\u001b[39;00m\n",
      "File \u001b[0;32m~/miniconda3/envs/DeepLeaarning/lib/python3.8/site-packages/charset_normalizer/__init__.py:23\u001b[0m\n\u001b[1;32m      1\u001b[0m \u001b[39m\"\"\"\u001b[39;00m\n\u001b[1;32m      2\u001b[0m \u001b[39mCharset-Normalizer\u001b[39;00m\n\u001b[1;32m      3\u001b[0m \u001b[39m~~~~~~~~~~~~~~\u001b[39;00m\n\u001b[0;32m   (...)\u001b[0m\n\u001b[1;32m     21\u001b[0m \u001b[39m:license: MIT, see LICENSE for more details.\u001b[39;00m\n\u001b[1;32m     22\u001b[0m \u001b[39m\"\"\"\u001b[39;00m\n\u001b[0;32m---> 23\u001b[0m \u001b[39mfrom\u001b[39;00m \u001b[39mcharset_normalizer\u001b[39;00m\u001b[39m.\u001b[39;00m\u001b[39mapi\u001b[39;00m \u001b[39mimport\u001b[39;00m from_fp, from_path, from_bytes, normalize\n\u001b[1;32m     24\u001b[0m \u001b[39mfrom\u001b[39;00m \u001b[39mcharset_normalizer\u001b[39;00m\u001b[39m.\u001b[39;00m\u001b[39mlegacy\u001b[39;00m \u001b[39mimport\u001b[39;00m detect\n\u001b[1;32m     25\u001b[0m \u001b[39mfrom\u001b[39;00m \u001b[39mcharset_normalizer\u001b[39;00m\u001b[39m.\u001b[39;00m\u001b[39mversion\u001b[39;00m \u001b[39mimport\u001b[39;00m __version__, VERSION\n",
      "File \u001b[0;32m~/miniconda3/envs/DeepLeaarning/lib/python3.8/site-packages/charset_normalizer/api.py:10\u001b[0m\n\u001b[1;32m      7\u001b[0m     PathLike \u001b[39m=\u001b[39m Union[\u001b[39mstr\u001b[39m, \u001b[39m'\u001b[39m\u001b[39mos.PathLike[str]\u001b[39m\u001b[39m'\u001b[39m]  \u001b[39m# type: ignore\u001b[39;00m\n\u001b[1;32m      9\u001b[0m \u001b[39mfrom\u001b[39;00m \u001b[39mcharset_normalizer\u001b[39;00m\u001b[39m.\u001b[39;00m\u001b[39mconstant\u001b[39;00m \u001b[39mimport\u001b[39;00m TOO_SMALL_SEQUENCE, TOO_BIG_SEQUENCE, IANA_SUPPORTED\n\u001b[0;32m---> 10\u001b[0m \u001b[39mfrom\u001b[39;00m \u001b[39mcharset_normalizer\u001b[39;00m\u001b[39m.\u001b[39;00m\u001b[39mmd\u001b[39;00m \u001b[39mimport\u001b[39;00m mess_ratio\n\u001b[1;32m     11\u001b[0m \u001b[39mfrom\u001b[39;00m \u001b[39mcharset_normalizer\u001b[39;00m\u001b[39m.\u001b[39;00m\u001b[39mmodels\u001b[39;00m \u001b[39mimport\u001b[39;00m CharsetMatches, CharsetMatch\n\u001b[1;32m     12\u001b[0m \u001b[39mfrom\u001b[39;00m \u001b[39mwarnings\u001b[39;00m \u001b[39mimport\u001b[39;00m warn\n",
      "File \u001b[0;32m~/miniconda3/envs/DeepLeaarning/lib/python3.8/site-packages/charset_normalizer/md.py:5\u001b[0m\n\u001b[1;32m      2\u001b[0m \u001b[39mfrom\u001b[39;00m \u001b[39mtyping\u001b[39;00m \u001b[39mimport\u001b[39;00m Optional, List\n\u001b[1;32m      4\u001b[0m \u001b[39mfrom\u001b[39;00m \u001b[39mcharset_normalizer\u001b[39;00m\u001b[39m.\u001b[39;00m\u001b[39mconstant\u001b[39;00m \u001b[39mimport\u001b[39;00m UNICODE_SECONDARY_RANGE_KEYWORD\n\u001b[0;32m----> 5\u001b[0m \u001b[39mfrom\u001b[39;00m \u001b[39mcharset_normalizer\u001b[39;00m\u001b[39m.\u001b[39;00m\u001b[39mutils\u001b[39;00m \u001b[39mimport\u001b[39;00m is_punctuation, is_symbol, unicode_range, is_accentuated, is_latin, \\\n\u001b[1;32m      6\u001b[0m     remove_accent, is_separator, is_cjk, is_case_variable, is_hangul, is_katakana, is_hiragana, is_ascii, is_thai\n\u001b[1;32m      9\u001b[0m \u001b[39mclass\u001b[39;00m \u001b[39mMessDetectorPlugin\u001b[39;00m:\n\u001b[1;32m     10\u001b[0m \u001b[39m    \u001b[39m\u001b[39m\"\"\"\u001b[39;00m\n\u001b[1;32m     11\u001b[0m \u001b[39m    Base abstract class used for mess detection plugins.\u001b[39;00m\n\u001b[1;32m     12\u001b[0m \u001b[39m    All detectors MUST extend and implement given methods.\u001b[39;00m\n\u001b[1;32m     13\u001b[0m \u001b[39m    \"\"\"\u001b[39;00m\n",
      "\u001b[0;31mImportError\u001b[0m: cannot import name 'COMMON_SAFE_ASCII_CHARACTERS' from 'charset_normalizer.constant' (/home/vittorio/miniconda3/envs/DeepLeaarning/lib/python3.8/site-packages/charset_normalizer/constant.py)"
     ]
    }
   ],
   "source": [
    "import os\n",
    "import json\n",
    "from transformers import GPT2LMHeadModel, GPT2Tokenizer, GPT2Config, AdamW\n",
    "from torch.nn import CrossEntropyLoss\n",
    "from torch.utils.data import DataLoader, Dataset\n",
    "from tqdm import tqdm\n",
    "import numpy as np\n",
    "\n",
    "# Set the environment variable\n",
    "os.environ[\"PROTOCOL_BUFFERS_PYTHON_IMPLEMENTATION\"] = \"python\"\n",
    "\n",
    "# Read data from a file\n",
    "with open(os.getcwd() + \"/data_processed.json\", 'r') as file:\n",
    "    data = json.load(file)\n",
    "\n",
    "# Extract questions and answers\n",
    "qas = data.get(\"qas\", [])\n",
    "\n",
    "questions = [qa.get(\"question\", \"\") for qa in qas]\n",
    "answers = [qa.get(\"answer\", \"\") for qa in qas]\n"
   ]
  },
  {
   "cell_type": "code",
   "execution_count": null,
   "metadata": {},
   "outputs": [
    {
     "name": "stdout",
     "output_type": "stream",
     "text": [
      "Original Question Shape: (6108,)\n",
      "Original Answer Shape: (6108,)\n",
      "Updated Question Shape: (4741,)\n",
      "Updated Answer Shape: (4741,)\n",
      "Maximum Question Length: 208\n",
      "Maximum Answer Length: 299\n"
     ]
    }
   ],
   "source": [
    "#Set maximu length\n",
    "max_length= 300\n",
    "\n",
    "# Convert questions and answers to NumPy arrays\n",
    "questions_array = np.array(questions)\n",
    "answers_array = np.array(answers)\n",
    "\n",
    "# Print original shapes\n",
    "print(\"Original Question Shape:\", questions_array.shape)\n",
    "print(\"Original Answer Shape:\", answers_array.shape)\n",
    "\n",
    "# Filter and remove pairs where either question or answer is longer than 200 characters\n",
    "mask = (np.vectorize(len)(questions_array) <= max_length-1) & (np.vectorize(len)(answers_array) <= max_length-1)\n",
    "filtered_questions_array = questions_array[mask]\n",
    "filtered_answers_array = answers_array[mask]\n",
    "\n",
    "# Print shapes after removing strings\n",
    "print(\"Updated Question Shape:\", filtered_questions_array.shape)\n",
    "print(\"Updated Answer Shape:\", filtered_answers_array.shape)\n",
    "\n",
    "# Calculate the maximum length of questions and answers\n",
    "max_question_length = max(len(q) for q in filtered_questions_array)\n",
    "max_answer_length = max(len(a) for a in filtered_answers_array)\n",
    "\n",
    "print(\"Maximum Question Length:\", max_question_length)\n",
    "print(\"Maximum Answer Length:\", max_answer_length)"
   ]
  },
  {
   "cell_type": "code",
   "execution_count": null,
   "metadata": {},
   "outputs": [
    {
     "name": "stdout",
     "output_type": "stream",
     "text": [
      "Maximum Question Length: 300\n",
      "Maximum Answer Length: 300\n"
     ]
    }
   ],
   "source": [
    "\n",
    "\n",
    "# Choose a custom padding token\n",
    "pad_fill_token = '!'\n",
    "\n",
    "def fill_with_token(text, max_len):\n",
    "    text = text.replace('?', '!')\n",
    "     # Calculate the number of tokens needed to fill up to max_len\n",
    "    num_tokens = max_len - len(text)\n",
    "    \n",
    "    # Concatenate '!' tokens with no space between them to fill up to max_len\n",
    "    filled_text = text + pad_fill_token * num_tokens\n",
    "    # Truncate the filled text to max_len\n",
    "    filled_text = filled_text[:max_len]\n",
    "\n",
    "    return filled_text\n",
    "   \n",
    "\n",
    "# Initialize lists to store modified questions and answers\n",
    "modified_questions = []\n",
    "modified_answers = []\n",
    "\n",
    "# Process each entry in the dataset\n",
    "for i in range(len(filtered_questions_array)):\n",
    "    question = fill_with_token(filtered_questions_array[i], max_length)\n",
    "    modified_questions.append(question)\n",
    "\n",
    "    answer = fill_with_token(filtered_answers_array[i], max_length)\n",
    "    modified_answers.append(answer)\n",
    "\n",
    "modified_questions_list = modified_questions\n",
    "modified_answers_list = modified_answers\n",
    "\n",
    "# Calculate the maximum length of questions and answers\n",
    "max_question_length = max(len(q) for q in modified_questions_list)\n",
    "max_answer_length = max(len(a) for a in modified_answers_list)\n",
    "\n",
    "print(\"Maximum Question Length:\", max_question_length)\n",
    "print(\"Maximum Answer Length:\", max_answer_length)\n",
    "\n",
    "\n"
   ]
  },
  {
   "cell_type": "code",
   "execution_count": null,
   "metadata": {},
   "outputs": [
    {
     "data": {
      "image/png": "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",
      "text/plain": [
       "<Figure size 1000x500 with 2 Axes>"
      ]
     },
     "metadata": {},
     "output_type": "display_data"
    }
   ],
   "source": [
    "import matplotlib.pyplot as plt\n",
    "\n",
    "# Assuming you have already processed the dataset and have the 'questions' and 'answers' lists\n",
    "\n",
    "# Calculate the lengths of questions and answers\n",
    "question_lengths = [len(q) for q in modified_questions_list]\n",
    "answer_lengths = [len(a) for a in modified_answers_list]\n",
    "\n",
    "# Plot histograms\n",
    "plt.figure(figsize=(10, 5))\n",
    "\n",
    "plt.subplot(1, 2, 1)\n",
    "plt.hist(question_lengths, bins=20, color='blue', alpha=0.7)\n",
    "plt.title('Question Length Distribution')\n",
    "plt.xlabel('Length')\n",
    "plt.ylabel('Frequency')\n",
    "\n",
    "plt.subplot(1, 2, 2)\n",
    "plt.hist(answer_lengths, bins=20, color='green', alpha=0.7)\n",
    "plt.title('Answer Length Distribution')\n",
    "plt.xlabel('Length')\n",
    "plt.ylabel('Frequency')\n",
    "\n",
    "plt.tight_layout()\n",
    "plt.show()\n"
   ]
  },
  {
   "cell_type": "code",
   "execution_count": null,
   "metadata": {},
   "outputs": [],
   "source": [
    "# Tokenization with a new [PAD] token added\n",
    "tokenizer = GPT2Tokenizer.from_pretrained(\"gpt2\")\n",
    "tokenizer.add_tokens([pad_fill_token])\n",
    "tokenizer.pad_token = pad_fill_token\n",
    "pad_token_id = tokenizer.pad_token_id\n"
   ]
  },
  {
   "cell_type": "code",
   "execution_count": null,
   "metadata": {},
   "outputs": [],
   "source": [
    "\n"
   ]
  },
  {
   "cell_type": "code",
   "execution_count": null,
   "metadata": {},
   "outputs": [
    {
     "name": "stdout",
     "output_type": "stream",
     "text": [
      "tensor([ 2061,  1321, 11228,  1724,     0,     0,     0,     0,     0,     0,\n",
      "            0,     0,     0,     0,     0,     0,     0,     0,     0,     0,\n",
      "            0,     0,     0,     0,     0,     0,     0,     0,     0,     0,\n",
      "            0,     0,     0,     0,     0,     0,     0,     0,     0,     0,\n",
      "            0,     0,     0,     0,     0,     0,     0,     0,     0,     0,\n",
      "            0,     0,     0,     0,     0,     0,     0,     0,     0,     0,\n",
      "            0,     0,     0,     0,     0,     0,     0,     0,     0,     0,\n",
      "            0,     0,     0,     0,     0,     0,     0,     0,     0,     0,\n",
      "            0,     0,     0,     0,     0,     0,     0,     0,     0,     0,\n",
      "            0,     0,     0,     0,     0,     0,     0,     0,     0,     0,\n",
      "            0,     0,     0,     0,     0,     0,     0,     0,     0,     0,\n",
      "            0,     0,     0,     0,     0,     0,     0,     0,     0,     0,\n",
      "            0,     0,     0,     0,     0,     0,     0,     0,     0,     0,\n",
      "            0,     0,     0,     0,     0,     0,     0,     0,     0,     0,\n",
      "            0,     0,     0,     0,     0,     0,     0,     0,     0,     0,\n",
      "            0,     0,     0,     0,     0,     0,     0,     0,     0,     0,\n",
      "            0,     0,     0,     0,     0,     0,     0,     0,     0,     0,\n",
      "            0,     0,     0,     0,     0,     0,     0,     0,     0,     0,\n",
      "            0,     0,     0,     0,     0,     0,     0,     0,     0,     0,\n",
      "            0,     0,     0,     0,     0,     0,     0,     0,     0,     0,\n",
      "            0,     0,     0,     0,     0,     0,     0,     0,     0,     0,\n",
      "            0,     0,     0,     0,     0,     0,     0,     0,     0,     0,\n",
      "            0,     0,     0,     0,     0,     0,     0,     0,     0,     0,\n",
      "            0,     0,     0,     0,     0,     0,     0,     0,     0,     0,\n",
      "            0,     0,     0,     0,     0,     0,     0,     0,     0,     0,\n",
      "            0,     0,     0,     0,     0,     0,     0,     0,     0,     0,\n",
      "            0,     0,     0,     0,     0,     0,     0,     0,     0,     0,\n",
      "            0,     0,     0,     0,     0,     0,     0,     0,     0,     0,\n",
      "            0,     0,     0,     0,     0,     0,     0,     0,     0,     0,\n",
      "            0,     0,     0,     0,     0,     0,     0,     0,     0,     0])\n",
      "What information gathering means\n",
      "Tokenized Questions Shape: torch.Size([949, 300])\n",
      "Tokenized Answers Shape: torch.Size([949, 300])\n",
      "Vocabulary Size: 50257\n",
      "Pad token id 0\n"
     ]
    }
   ],
   "source": [
    "from sklearn.model_selection import train_test_split\n",
    "# Split the data into training and validation sets\n",
    "train_questions, val_questions, train_answers, val_answers = train_test_split(\n",
    "    modified_questions_list, modified_answers_list, test_size=0.2, random_state=42\n",
    ")\n",
    "\n",
    "# Tokenize your dataset\n",
    "# Assuming `questions` and `answers` are your input and target data\n",
    "tokenized_questions_train = tokenizer(train_questions, padding=True, truncation=True, return_tensors=\"pt\", max_length=max_length)\n",
    "tokenized_answers_train = tokenizer(train_answers, padding=True, truncation=True, return_tensors=\"pt\", max_length=max_length)\n",
    "\n",
    "tokenized_questions_train['input_ids'] = torch.cat([tokenized_questions_train['input_ids'], torch.full((len(train_questions), max_length - tokenized_questions_train['input_ids'].size(1)), tokenizer.pad_token_id)], dim=1)\n",
    "tokenized_answers_train['input_ids'] = torch.cat([tokenized_answers_train['input_ids'], torch.full((len(train_answers), max_length - tokenized_answers_train['input_ids'].size(1)), tokenizer.pad_token_id)], dim=1)\n",
    "\n",
    "\n",
    "# Tokenize questions and answers for validation\n",
    "val_tokenized_questions = tokenizer(val_questions, padding=True, truncation=True, return_tensors=\"pt\",max_length=max_length)\n",
    "val_tokenized_answers = tokenizer(val_answers, padding=True, truncation=True, return_tensors=\"pt\",max_length=max_length)\n",
    "\n",
    "val_tokenized_questions['input_ids'] = torch.cat([val_tokenized_questions['input_ids'], torch.full((len(val_questions), max_length - val_tokenized_questions['input_ids'].size(1)), tokenizer.pad_token_id)], dim=1)\n",
    "val_tokenized_answers['input_ids'] = torch.cat([val_tokenized_answers['input_ids'], torch.full((len(val_answers), max_length - val_tokenized_answers['input_ids'].size(1)), tokenizer.pad_token_id)], dim=1)\n",
    "\n",
    "\n",
    "#See the tokenized and the encoded\n",
    "print(val_tokenized_questions['input_ids'][0])\n",
    "print(tokenizer.decode(val_tokenized_questions['input_ids'][0], skip_special_tokens=True))\n",
    "\n",
    "#Printing shapes\n",
    "print(\"Tokenized Questions Shape:\", val_tokenized_questions[\"input_ids\"].shape)\n",
    "print(\"Tokenized Answers Shape:\", val_tokenized_questions[\"input_ids\"].shape)\n",
    "print(\"Vocabulary Size:\", tokenizer.vocab_size)\n",
    "print(\"Pad token id\",pad_token_id)"
   ]
  },
  {
   "cell_type": "code",
   "execution_count": null,
   "metadata": {},
   "outputs": [],
   "source": [
    "class QADataset(Dataset):\n",
    "    def __init__(self, questions, answers):\n",
    "        self.questions = questions\n",
    "        self.answers = answers\n",
    "\n",
    "    def __len__(self):\n",
    "        return len(self.questions['input_ids']) \n",
    "\n",
    "    def __getitem__(self, idx):\n",
    "        return {\n",
    "            'input_ids': self.questions['input_ids'][idx],\n",
    "            'labels': self.answers['input_ids'][idx],\n",
    "        }\n",
    "\n",
    "# Create instances of the custom dataset\n",
    "dataset = QADataset(tokenized_questions_train, tokenized_answers_train)\n",
    "\n",
    "# DataLoader for batching and shuffling the data\n",
    "dataloader = DataLoader(dataset, batch_size=8, shuffle=True)"
   ]
  },
  {
   "cell_type": "code",
   "execution_count": null,
   "metadata": {},
   "outputs": [
    {
     "name": "stdout",
     "output_type": "stream",
     "text": [
      "cpu\n"
     ]
    },
    {
     "name": "stderr",
     "output_type": "stream",
     "text": [
      "Epoch 1/5:   0%|          | 0/474 [00:06<?, ?it/s]\n"
     ]
    },
    {
     "ename": "KeyboardInterrupt",
     "evalue": "",
     "output_type": "error",
     "traceback": [
      "\u001b[0;31m---------------------------------------------------------------------------\u001b[0m",
      "\u001b[0;31mKeyboardInterrupt\u001b[0m                         Traceback (most recent call last)",
      "Cell \u001b[0;32mIn[277], line 31\u001b[0m\n\u001b[1;32m     28\u001b[0m     loss \u001b[39m=\u001b[39m outputs\u001b[39m.\u001b[39mloss\n\u001b[1;32m     29\u001b[0m     total_loss \u001b[39m+\u001b[39m\u001b[39m=\u001b[39m loss\u001b[39m.\u001b[39mitem()\n\u001b[0;32m---> 31\u001b[0m     loss\u001b[39m.\u001b[39;49mbackward()\n\u001b[1;32m     32\u001b[0m     optimizer\u001b[39m.\u001b[39mstep()\n\u001b[1;32m     34\u001b[0m average_loss \u001b[39m=\u001b[39m total_loss \u001b[39m/\u001b[39m \u001b[39mlen\u001b[39m(dataloader)\n",
      "File \u001b[0;32m~/.local/lib/python3.10/site-packages/torch/_tensor.py:492\u001b[0m, in \u001b[0;36mTensor.backward\u001b[0;34m(self, gradient, retain_graph, create_graph, inputs)\u001b[0m\n\u001b[1;32m    482\u001b[0m \u001b[39mif\u001b[39;00m has_torch_function_unary(\u001b[39mself\u001b[39m):\n\u001b[1;32m    483\u001b[0m     \u001b[39mreturn\u001b[39;00m handle_torch_function(\n\u001b[1;32m    484\u001b[0m         Tensor\u001b[39m.\u001b[39mbackward,\n\u001b[1;32m    485\u001b[0m         (\u001b[39mself\u001b[39m,),\n\u001b[0;32m   (...)\u001b[0m\n\u001b[1;32m    490\u001b[0m         inputs\u001b[39m=\u001b[39minputs,\n\u001b[1;32m    491\u001b[0m     )\n\u001b[0;32m--> 492\u001b[0m torch\u001b[39m.\u001b[39;49mautograd\u001b[39m.\u001b[39;49mbackward(\n\u001b[1;32m    493\u001b[0m     \u001b[39mself\u001b[39;49m, gradient, retain_graph, create_graph, inputs\u001b[39m=\u001b[39;49minputs\n\u001b[1;32m    494\u001b[0m )\n",
      "File \u001b[0;32m~/.local/lib/python3.10/site-packages/torch/autograd/__init__.py:251\u001b[0m, in \u001b[0;36mbackward\u001b[0;34m(tensors, grad_tensors, retain_graph, create_graph, grad_variables, inputs)\u001b[0m\n\u001b[1;32m    246\u001b[0m     retain_graph \u001b[39m=\u001b[39m create_graph\n\u001b[1;32m    248\u001b[0m \u001b[39m# The reason we repeat the same comment below is that\u001b[39;00m\n\u001b[1;32m    249\u001b[0m \u001b[39m# some Python versions print out the first line of a multi-line function\u001b[39;00m\n\u001b[1;32m    250\u001b[0m \u001b[39m# calls in the traceback and some print out the last line\u001b[39;00m\n\u001b[0;32m--> 251\u001b[0m Variable\u001b[39m.\u001b[39;49m_execution_engine\u001b[39m.\u001b[39;49mrun_backward(  \u001b[39m# Calls into the C++ engine to run the backward pass\u001b[39;49;00m\n\u001b[1;32m    252\u001b[0m     tensors,\n\u001b[1;32m    253\u001b[0m     grad_tensors_,\n\u001b[1;32m    254\u001b[0m     retain_graph,\n\u001b[1;32m    255\u001b[0m     create_graph,\n\u001b[1;32m    256\u001b[0m     inputs,\n\u001b[1;32m    257\u001b[0m     allow_unreachable\u001b[39m=\u001b[39;49m\u001b[39mTrue\u001b[39;49;00m,\n\u001b[1;32m    258\u001b[0m     accumulate_grad\u001b[39m=\u001b[39;49m\u001b[39mTrue\u001b[39;49;00m,\n\u001b[1;32m    259\u001b[0m )\n",
      "\u001b[0;31mKeyboardInterrupt\u001b[0m: "
     ]
    }
   ],
   "source": [
    "# Model configuration\n",
    "config = GPT2Config.from_pretrained(\"gpt2\", output_hidden_states=False)\n",
    "model = GPT2LMHeadModel.from_pretrained(\"gpt2\", config=config)\n",
    "\n",
    "# Optimizer and loss function\n",
    "optimizer = AdamW(model.parameters(), lr=5e-5)\n",
    "# Set the ignore_index to the pad_token_id\n",
    "loss_function = CrossEntropyLoss(ignore_index=pad_token_id)\n",
    "\n",
    "# Training loop\n",
    "num_epochs = 5\n",
    "device = torch.device(\"cuda\" if torch.cuda.is_available() else \"cpu\")\n",
    "model.to(device)\n",
    "print(model.device)  # This will print the current device of the model\n",
    "\n",
    "\n",
    "for epoch in range(num_epochs):\n",
    "    model.train()\n",
    "    total_loss = 0\n",
    "\n",
    "    for batch in tqdm(dataloader, desc=f\"Epoch {epoch + 1}/{num_epochs}\"):\n",
    "        input_ids = batch['input_ids'].to(device)\n",
    "        labels = batch['labels'].to(device)\n",
    "\n",
    "        optimizer.zero_grad()\n",
    "\n",
    "        outputs = model(input_ids, labels=labels)\n",
    "        loss = outputs.loss\n",
    "        total_loss += loss.item()\n",
    "\n",
    "        loss.backward()\n",
    "        optimizer.step()\n",
    "\n",
    "    average_loss = total_loss / len(dataloader)\n",
    "    print(f\"Epoch {epoch + 1}/{num_epochs}, Average Loss: {average_loss}\")"
   ]
  },
  {
   "cell_type": "code",
   "execution_count": null,
   "metadata": {},
   "outputs": [
    {
     "name": "stderr",
     "output_type": "stream",
     "text": [
      "Validation:  82%|████████▏ | 97/119 [03:34<00:48,  2.22s/it]\n"
     ]
    },
    {
     "ename": "KeyboardInterrupt",
     "evalue": "",
     "output_type": "error",
     "traceback": [
      "\u001b[0;31m---------------------------------------------------------------------------\u001b[0m",
      "\u001b[0;31mKeyboardInterrupt\u001b[0m                         Traceback (most recent call last)",
      "Cell \u001b[0;32mIn[267], line 13\u001b[0m\n\u001b[1;32m      9\u001b[0m         val_batch \u001b[39m=\u001b[39m \u001b[39mtuple\u001b[39m(t\u001b[39m.\u001b[39mto(device) \u001b[39mfor\u001b[39;00m t \u001b[39min\u001b[39;00m val_batch)\n\u001b[1;32m     11\u001b[0m         val_input_ids, val_labels \u001b[39m=\u001b[39m val_batch\n\u001b[0;32m---> 13\u001b[0m         val_outputs \u001b[39m=\u001b[39m model(val_input_ids, labels\u001b[39m=\u001b[39;49mval_labels)\n\u001b[1;32m     14\u001b[0m         val_loss \u001b[39m+\u001b[39m\u001b[39m=\u001b[39m val_outputs\u001b[39m.\u001b[39mloss\u001b[39m.\u001b[39mitem()\n\u001b[1;32m     16\u001b[0m \u001b[39m# Calculate average validation loss\u001b[39;00m\n",
      "File \u001b[0;32m~/.local/lib/python3.10/site-packages/torch/nn/modules/module.py:1518\u001b[0m, in \u001b[0;36mModule._wrapped_call_impl\u001b[0;34m(self, *args, **kwargs)\u001b[0m\n\u001b[1;32m   1516\u001b[0m     \u001b[39mreturn\u001b[39;00m \u001b[39mself\u001b[39m\u001b[39m.\u001b[39m_compiled_call_impl(\u001b[39m*\u001b[39margs, \u001b[39m*\u001b[39m\u001b[39m*\u001b[39mkwargs)  \u001b[39m# type: ignore[misc]\u001b[39;00m\n\u001b[1;32m   1517\u001b[0m \u001b[39melse\u001b[39;00m:\n\u001b[0;32m-> 1518\u001b[0m     \u001b[39mreturn\u001b[39;00m \u001b[39mself\u001b[39;49m\u001b[39m.\u001b[39;49m_call_impl(\u001b[39m*\u001b[39;49margs, \u001b[39m*\u001b[39;49m\u001b[39m*\u001b[39;49mkwargs)\n",
      "File \u001b[0;32m~/.local/lib/python3.10/site-packages/torch/nn/modules/module.py:1527\u001b[0m, in \u001b[0;36mModule._call_impl\u001b[0;34m(self, *args, **kwargs)\u001b[0m\n\u001b[1;32m   1522\u001b[0m \u001b[39m# If we don't have any hooks, we want to skip the rest of the logic in\u001b[39;00m\n\u001b[1;32m   1523\u001b[0m \u001b[39m# this function, and just call forward.\u001b[39;00m\n\u001b[1;32m   1524\u001b[0m \u001b[39mif\u001b[39;00m \u001b[39mnot\u001b[39;00m (\u001b[39mself\u001b[39m\u001b[39m.\u001b[39m_backward_hooks \u001b[39mor\u001b[39;00m \u001b[39mself\u001b[39m\u001b[39m.\u001b[39m_backward_pre_hooks \u001b[39mor\u001b[39;00m \u001b[39mself\u001b[39m\u001b[39m.\u001b[39m_forward_hooks \u001b[39mor\u001b[39;00m \u001b[39mself\u001b[39m\u001b[39m.\u001b[39m_forward_pre_hooks\n\u001b[1;32m   1525\u001b[0m         \u001b[39mor\u001b[39;00m _global_backward_pre_hooks \u001b[39mor\u001b[39;00m _global_backward_hooks\n\u001b[1;32m   1526\u001b[0m         \u001b[39mor\u001b[39;00m _global_forward_hooks \u001b[39mor\u001b[39;00m _global_forward_pre_hooks):\n\u001b[0;32m-> 1527\u001b[0m     \u001b[39mreturn\u001b[39;00m forward_call(\u001b[39m*\u001b[39;49margs, \u001b[39m*\u001b[39;49m\u001b[39m*\u001b[39;49mkwargs)\n\u001b[1;32m   1529\u001b[0m \u001b[39mtry\u001b[39;00m:\n\u001b[1;32m   1530\u001b[0m     result \u001b[39m=\u001b[39m \u001b[39mNone\u001b[39;00m\n",
      "File \u001b[0;32m~/.local/lib/python3.10/site-packages/transformers/models/gpt2/modeling_gpt2.py:1107\u001b[0m, in \u001b[0;36mGPT2LMHeadModel.forward\u001b[0;34m(self, input_ids, past_key_values, attention_mask, token_type_ids, position_ids, head_mask, inputs_embeds, encoder_hidden_states, encoder_attention_mask, labels, use_cache, output_attentions, output_hidden_states, return_dict)\u001b[0m\n\u001b[1;32m   1105\u001b[0m     \u001b[39m# Flatten the tokens\u001b[39;00m\n\u001b[1;32m   1106\u001b[0m     loss_fct \u001b[39m=\u001b[39m CrossEntropyLoss()\n\u001b[0;32m-> 1107\u001b[0m     loss \u001b[39m=\u001b[39m loss_fct(shift_logits\u001b[39m.\u001b[39;49mview(\u001b[39m-\u001b[39;49m\u001b[39m1\u001b[39;49m, shift_logits\u001b[39m.\u001b[39;49msize(\u001b[39m-\u001b[39;49m\u001b[39m1\u001b[39;49m)), shift_labels\u001b[39m.\u001b[39;49mview(\u001b[39m-\u001b[39;49m\u001b[39m1\u001b[39;49m))\n\u001b[1;32m   1109\u001b[0m \u001b[39mif\u001b[39;00m \u001b[39mnot\u001b[39;00m return_dict:\n\u001b[1;32m   1110\u001b[0m     output \u001b[39m=\u001b[39m (lm_logits,) \u001b[39m+\u001b[39m transformer_outputs[\u001b[39m1\u001b[39m:]\n",
      "File \u001b[0;32m~/.local/lib/python3.10/site-packages/torch/nn/modules/module.py:1518\u001b[0m, in \u001b[0;36mModule._wrapped_call_impl\u001b[0;34m(self, *args, **kwargs)\u001b[0m\n\u001b[1;32m   1516\u001b[0m     \u001b[39mreturn\u001b[39;00m \u001b[39mself\u001b[39m\u001b[39m.\u001b[39m_compiled_call_impl(\u001b[39m*\u001b[39margs, \u001b[39m*\u001b[39m\u001b[39m*\u001b[39mkwargs)  \u001b[39m# type: ignore[misc]\u001b[39;00m\n\u001b[1;32m   1517\u001b[0m \u001b[39melse\u001b[39;00m:\n\u001b[0;32m-> 1518\u001b[0m     \u001b[39mreturn\u001b[39;00m \u001b[39mself\u001b[39;49m\u001b[39m.\u001b[39;49m_call_impl(\u001b[39m*\u001b[39;49margs, \u001b[39m*\u001b[39;49m\u001b[39m*\u001b[39;49mkwargs)\n",
      "File \u001b[0;32m~/.local/lib/python3.10/site-packages/torch/nn/modules/module.py:1527\u001b[0m, in \u001b[0;36mModule._call_impl\u001b[0;34m(self, *args, **kwargs)\u001b[0m\n\u001b[1;32m   1522\u001b[0m \u001b[39m# If we don't have any hooks, we want to skip the rest of the logic in\u001b[39;00m\n\u001b[1;32m   1523\u001b[0m \u001b[39m# this function, and just call forward.\u001b[39;00m\n\u001b[1;32m   1524\u001b[0m \u001b[39mif\u001b[39;00m \u001b[39mnot\u001b[39;00m (\u001b[39mself\u001b[39m\u001b[39m.\u001b[39m_backward_hooks \u001b[39mor\u001b[39;00m \u001b[39mself\u001b[39m\u001b[39m.\u001b[39m_backward_pre_hooks \u001b[39mor\u001b[39;00m \u001b[39mself\u001b[39m\u001b[39m.\u001b[39m_forward_hooks \u001b[39mor\u001b[39;00m \u001b[39mself\u001b[39m\u001b[39m.\u001b[39m_forward_pre_hooks\n\u001b[1;32m   1525\u001b[0m         \u001b[39mor\u001b[39;00m _global_backward_pre_hooks \u001b[39mor\u001b[39;00m _global_backward_hooks\n\u001b[1;32m   1526\u001b[0m         \u001b[39mor\u001b[39;00m _global_forward_hooks \u001b[39mor\u001b[39;00m _global_forward_pre_hooks):\n\u001b[0;32m-> 1527\u001b[0m     \u001b[39mreturn\u001b[39;00m forward_call(\u001b[39m*\u001b[39;49margs, \u001b[39m*\u001b[39;49m\u001b[39m*\u001b[39;49mkwargs)\n\u001b[1;32m   1529\u001b[0m \u001b[39mtry\u001b[39;00m:\n\u001b[1;32m   1530\u001b[0m     result \u001b[39m=\u001b[39m \u001b[39mNone\u001b[39;00m\n",
      "File \u001b[0;32m~/.local/lib/python3.10/site-packages/torch/nn/modules/loss.py:1179\u001b[0m, in \u001b[0;36mCrossEntropyLoss.forward\u001b[0;34m(self, input, target)\u001b[0m\n\u001b[1;32m   1178\u001b[0m \u001b[39mdef\u001b[39;00m \u001b[39mforward\u001b[39m(\u001b[39mself\u001b[39m, \u001b[39minput\u001b[39m: Tensor, target: Tensor) \u001b[39m-\u001b[39m\u001b[39m>\u001b[39m Tensor:\n\u001b[0;32m-> 1179\u001b[0m     \u001b[39mreturn\u001b[39;00m F\u001b[39m.\u001b[39;49mcross_entropy(\u001b[39minput\u001b[39;49m, target, weight\u001b[39m=\u001b[39;49m\u001b[39mself\u001b[39;49m\u001b[39m.\u001b[39;49mweight,\n\u001b[1;32m   1180\u001b[0m                            ignore_index\u001b[39m=\u001b[39;49m\u001b[39mself\u001b[39;49m\u001b[39m.\u001b[39;49mignore_index, reduction\u001b[39m=\u001b[39;49m\u001b[39mself\u001b[39;49m\u001b[39m.\u001b[39;49mreduction,\n\u001b[1;32m   1181\u001b[0m                            label_smoothing\u001b[39m=\u001b[39;49m\u001b[39mself\u001b[39;49m\u001b[39m.\u001b[39;49mlabel_smoothing)\n",
      "File \u001b[0;32m~/.local/lib/python3.10/site-packages/torch/nn/functional.py:3053\u001b[0m, in \u001b[0;36mcross_entropy\u001b[0;34m(input, target, weight, size_average, ignore_index, reduce, reduction, label_smoothing)\u001b[0m\n\u001b[1;32m   3051\u001b[0m \u001b[39mif\u001b[39;00m size_average \u001b[39mis\u001b[39;00m \u001b[39mnot\u001b[39;00m \u001b[39mNone\u001b[39;00m \u001b[39mor\u001b[39;00m reduce \u001b[39mis\u001b[39;00m \u001b[39mnot\u001b[39;00m \u001b[39mNone\u001b[39;00m:\n\u001b[1;32m   3052\u001b[0m     reduction \u001b[39m=\u001b[39m _Reduction\u001b[39m.\u001b[39mlegacy_get_string(size_average, reduce)\n\u001b[0;32m-> 3053\u001b[0m \u001b[39mreturn\u001b[39;00m torch\u001b[39m.\u001b[39;49m_C\u001b[39m.\u001b[39;49m_nn\u001b[39m.\u001b[39;49mcross_entropy_loss(\u001b[39minput\u001b[39;49m, target, weight, _Reduction\u001b[39m.\u001b[39;49mget_enum(reduction), ignore_index, label_smoothing)\n",
      "\u001b[0;31mKeyboardInterrupt\u001b[0m: "
     ]
    }
   ],
   "source": [
    "model.eval()\n",
    "val_loss = 0\n",
    "\n",
    "# Create a DataLoader for the validation set\n",
    "val_dataloader = DataLoader(list(zip(val_tokenized_questions['input_ids'], val_tokenized_answers['input_ids'])), batch_size=8, shuffle=False)\n",
    "\n",
    "with torch.no_grad():\n",
    "    for val_batch in tqdm(val_dataloader, desc=\"Validation\"):\n",
    "        val_batch = tuple(t.to(device) for t in val_batch)\n",
    "\n",
    "        val_input_ids, val_labels = val_batch\n",
    "\n",
    "        val_outputs = model(val_input_ids, labels=val_labels)\n",
    "        val_loss += val_outputs.loss.item()\n",
    "\n",
    "# Calculate average validation loss\n",
    "average_val_loss = val_loss / len(val_dataloader)\n",
    "print(f\"Validation Loss: {average_val_loss}\")"
   ]
  },
  {
   "cell_type": "code",
   "execution_count": null,
   "metadata": {},
   "outputs": [
    {
     "name": "stderr",
     "output_type": "stream",
     "text": [
      "The attention mask and the pad token id were not set. As a consequence, you may observe unexpected behavior. Please pass your input's `attention_mask` to obtain reliable results.\n",
      "Setting `pad_token_id` to `eos_token_id`:50256 for open-end generation.\n"
     ]
    },
    {
     "name": "stdout",
     "output_type": "stream",
     "text": [
      "Generated Text: What is deep learning?\n",
      "\n",
      "Deep learning is a type of machine learning algorithm that can be used to predict the behavior of objects in a given environment. Deep learning algorithms can also be applied to other types of data, such as image data. In this article, we will look at a few of the most commonly used Deep Learning algorithms, and how they are used in real-world applications. We will also discuss how to use them in the real world, as well as some of their limitations.\n"
     ]
    }
   ],
   "source": [
    "###INFERENCE\n",
    "\n",
    "# Set the device to CUDA if available\n",
    "device = torch.device(\"cuda\" if torch.cuda.is_available() else \"cpu\")\n",
    "model.to(device)\n",
    "\n",
    "# Set the model to evaluation mode\n",
    "model.eval()\n",
    "\n",
    "# Prompt for user input\n",
    "user_prompt = \"What is deep learning\"\n",
    "\n",
    "# Tokenize the prompt\n",
    "input_ids = tokenizer.encode(user_prompt, return_tensors=\"pt\").to(device)\n",
    "\n",
    "# Generate text based on the prompt\n",
    "output = model.generate(input_ids, max_length=100, num_beams=5, no_repeat_ngram_size=2, top_k=50, top_p=0.95)\n",
    "\n",
    "# Decode and print the generated text\n",
    "generated_text = tokenizer.decode(output[0], skip_special_tokens=True)\n",
    "print(\"Generated Text:\", generated_text)"
   ]
  }
 ],
 "metadata": {
  "kernelspec": {
   "display_name": "Python 3",
   "language": "python",
   "name": "python3"
  },
  "language_info": {
   "codemirror_mode": {
    "name": "ipython",
    "version": 3
   },
   "file_extension": ".py",
   "mimetype": "text/x-python",
   "name": "python",
   "nbconvert_exporter": "python",
   "pygments_lexer": "ipython3",
   "version": "3.8.18"
  },
  "orig_nbformat": 4
 },
 "nbformat": 4,
 "nbformat_minor": 2
}
>>>>>>> ae1b5d2079e291f9cdf7d9200a40f4f60744847e
